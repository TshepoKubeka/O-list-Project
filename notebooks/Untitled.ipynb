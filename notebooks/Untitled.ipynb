{
 "cells": [
  {
   "cell_type": "markdown",
   "id": "bbc04212",
   "metadata": {},
   "source": [
    "# Data Preparation"
   ]
  },
  {
   "cell_type": "code",
   "execution_count": 1,
   "id": "0eee8c9d",
   "metadata": {},
   "outputs": [],
   "source": [
    "import os\n",
    "import numpy as np\n",
    "import pandas as pd\n",
    "import csv\n",
    "import matplotlib.pyplot as plt\n",
    "import seaborn as sns"
   ]
  },
  {
   "cell_type": "code",
   "execution_count": 2,
   "id": "8840e1ac",
   "metadata": {},
   "outputs": [
    {
     "data": {
      "text/plain": [
       "'/Users/mac/code/TshepoKubeka/O-list/notebooks'"
      ]
     },
     "execution_count": 2,
     "metadata": {},
     "output_type": "execute_result"
    }
   ],
   "source": [
    "import os\n",
    "os.getcwd()"
   ]
  },
  {
   "cell_type": "code",
   "execution_count": 3,
   "id": "0ed6b927",
   "metadata": {},
   "outputs": [
    {
     "data": {
      "text/plain": [
       "'../O-list/data/csv'"
      ]
     },
     "execution_count": 3,
     "metadata": {},
     "output_type": "execute_result"
    }
   ],
   "source": [
    "csv_path = os.path.join('..', 'O-list', 'data','csv')\n",
    "csv_path"
   ]
  },
  {
   "cell_type": "code",
   "execution_count": 4,
   "id": "ece267de",
   "metadata": {
    "scrolled": true
   },
   "outputs": [
    {
     "data": {
      "text/html": [
       "<div>\n",
       "<style scoped>\n",
       "    .dataframe tbody tr th:only-of-type {\n",
       "        vertical-align: middle;\n",
       "    }\n",
       "\n",
       "    .dataframe tbody tr th {\n",
       "        vertical-align: top;\n",
       "    }\n",
       "\n",
       "    .dataframe thead th {\n",
       "        text-align: right;\n",
       "    }\n",
       "</style>\n",
       "<table border=\"1\" class=\"dataframe\">\n",
       "  <thead>\n",
       "    <tr style=\"text-align: right;\">\n",
       "      <th></th>\n",
       "      <th>seller_id</th>\n",
       "      <th>seller_zip_code_prefix</th>\n",
       "      <th>seller_city</th>\n",
       "      <th>seller_state</th>\n",
       "    </tr>\n",
       "  </thead>\n",
       "  <tbody>\n",
       "    <tr>\n",
       "      <th>0</th>\n",
       "      <td>3442f8959a84dea7ee197c632cb2df15</td>\n",
       "      <td>13023</td>\n",
       "      <td>campinas</td>\n",
       "      <td>SP</td>\n",
       "    </tr>\n",
       "    <tr>\n",
       "      <th>1</th>\n",
       "      <td>d1b65fc7debc3361ea86b5f14c68d2e2</td>\n",
       "      <td>13844</td>\n",
       "      <td>mogi guacu</td>\n",
       "      <td>SP</td>\n",
       "    </tr>\n",
       "    <tr>\n",
       "      <th>2</th>\n",
       "      <td>ce3ad9de960102d0677a81f5d0bb7b2d</td>\n",
       "      <td>20031</td>\n",
       "      <td>rio de janeiro</td>\n",
       "      <td>RJ</td>\n",
       "    </tr>\n",
       "    <tr>\n",
       "      <th>3</th>\n",
       "      <td>c0f3eea2e14555b6faeea3dd58c1b1c3</td>\n",
       "      <td>4195</td>\n",
       "      <td>sao paulo</td>\n",
       "      <td>SP</td>\n",
       "    </tr>\n",
       "    <tr>\n",
       "      <th>4</th>\n",
       "      <td>51a04a8a6bdcb23deccc82b0b80742cf</td>\n",
       "      <td>12914</td>\n",
       "      <td>braganca paulista</td>\n",
       "      <td>SP</td>\n",
       "    </tr>\n",
       "  </tbody>\n",
       "</table>\n",
       "</div>"
      ],
      "text/plain": [
       "                          seller_id  seller_zip_code_prefix  \\\n",
       "0  3442f8959a84dea7ee197c632cb2df15                   13023   \n",
       "1  d1b65fc7debc3361ea86b5f14c68d2e2                   13844   \n",
       "2  ce3ad9de960102d0677a81f5d0bb7b2d                   20031   \n",
       "3  c0f3eea2e14555b6faeea3dd58c1b1c3                    4195   \n",
       "4  51a04a8a6bdcb23deccc82b0b80742cf                   12914   \n",
       "\n",
       "         seller_city seller_state  \n",
       "0           campinas           SP  \n",
       "1         mogi guacu           SP  \n",
       "2     rio de janeiro           RJ  \n",
       "3          sao paulo           SP  \n",
       "4  braganca paulista           SP  "
      ]
     },
     "execution_count": 4,
     "metadata": {},
     "output_type": "execute_result"
    }
   ],
   "source": [
    "import pandas as pd\n",
    "pd.read_csv(os.path.join(csv_path, 'olist_sellers_dataset.csv')).head()"
   ]
  },
  {
   "cell_type": "markdown",
   "id": "3544f06d",
   "metadata": {},
   "source": [
    "## File names containing \".csv\""
   ]
  },
  {
   "cell_type": "code",
   "execution_count": 5,
   "id": "2c1d5fb0",
   "metadata": {
    "scrolled": true
   },
   "outputs": [
    {
     "data": {
      "text/plain": [
       "['olist_sellers_dataset.csv',\n",
       " 'product_category_name_translation.csv',\n",
       " 'olist_orders_dataset.csv',\n",
       " 'olist_order_items_dataset.csv',\n",
       " 'olist_customers_dataset.csv',\n",
       " 'olist_geolocation_dataset.csv',\n",
       " 'olist_order_payments_dataset.csv',\n",
       " 'olist_order_reviews_dataset.csv',\n",
       " 'olist_products_dataset.csv']"
      ]
     },
     "execution_count": 5,
     "metadata": {},
     "output_type": "execute_result"
    }
   ],
   "source": [
    "file_names = [f for f in os.listdir(csv_path) if f.endswith('.csv')]\n",
    "file_names"
   ]
  },
  {
   "cell_type": "markdown",
   "id": "f7f94325",
   "metadata": {},
   "source": [
    "## List of key names without .csv"
   ]
  },
  {
   "cell_type": "code",
   "execution_count": 6,
   "id": "e72815fa",
   "metadata": {
    "scrolled": true
   },
   "outputs": [
    {
     "data": {
      "text/plain": [
       "['sellers',\n",
       " 'product_category_name_translation',\n",
       " 'orders',\n",
       " 'order_items',\n",
       " 'customers',\n",
       " 'geolocation',\n",
       " 'order_payments',\n",
       " 'order_reviews',\n",
       " 'products']"
      ]
     },
     "execution_count": 6,
     "metadata": {},
     "output_type": "execute_result"
    }
   ],
   "source": [
    "key_names = [key_name\n",
    "    .replace('olist_','')\n",
    "    .replace('_dataset','')\n",
    "    .replace('.csv','')\n",
    "    for key_name in file_names]\n",
    "key_names"
   ]
  },
  {
   "cell_type": "markdown",
   "id": "470e85cc",
   "metadata": {},
   "source": [
    "## Construct Dict for the Data"
   ]
  },
  {
   "cell_type": "markdown",
   "id": "8f3adfcb",
   "metadata": {},
   "source": [
    "EG.\n",
    "\n",
    "data = {'sellers': Dataframe1, 'orders': Dataframe2, .....}"
   ]
  },
  {
   "cell_type": "code",
   "execution_count": 7,
   "id": "757e40c9",
   "metadata": {},
   "outputs": [
    {
     "data": {
      "text/plain": [
       "dict_keys(['sellers', 'product_category_name_translation', 'orders', 'order_items', 'customers', 'geolocation', 'order_payments', 'order_reviews', 'products'])"
      ]
     },
     "execution_count": 7,
     "metadata": {},
     "output_type": "execute_result"
    }
   ],
   "source": [
    "data = {}\n",
    "for k,f in zip(key_names, file_names):\n",
    "    data[k] = pd.read_csv(os.path.join(csv_path, f))\n",
    "data.keys()"
   ]
  },
  {
   "cell_type": "code",
   "execution_count": 8,
   "id": "0b6643a2",
   "metadata": {},
   "outputs": [
    {
     "data": {
      "text/html": [
       "<div>\n",
       "<style scoped>\n",
       "    .dataframe tbody tr th:only-of-type {\n",
       "        vertical-align: middle;\n",
       "    }\n",
       "\n",
       "    .dataframe tbody tr th {\n",
       "        vertical-align: top;\n",
       "    }\n",
       "\n",
       "    .dataframe thead th {\n",
       "        text-align: right;\n",
       "    }\n",
       "</style>\n",
       "<table border=\"1\" class=\"dataframe\">\n",
       "  <thead>\n",
       "    <tr style=\"text-align: right;\">\n",
       "      <th></th>\n",
       "      <th>product_id</th>\n",
       "      <th>product_category_name</th>\n",
       "      <th>product_name_lenght</th>\n",
       "      <th>product_description_lenght</th>\n",
       "      <th>product_photos_qty</th>\n",
       "      <th>product_weight_g</th>\n",
       "      <th>product_length_cm</th>\n",
       "      <th>product_height_cm</th>\n",
       "      <th>product_width_cm</th>\n",
       "    </tr>\n",
       "  </thead>\n",
       "  <tbody>\n",
       "    <tr>\n",
       "      <th>0</th>\n",
       "      <td>1e9e8ef04dbcff4541ed26657ea517e5</td>\n",
       "      <td>perfumaria</td>\n",
       "      <td>40.0</td>\n",
       "      <td>287.0</td>\n",
       "      <td>1.0</td>\n",
       "      <td>225.0</td>\n",
       "      <td>16.0</td>\n",
       "      <td>10.0</td>\n",
       "      <td>14.0</td>\n",
       "    </tr>\n",
       "    <tr>\n",
       "      <th>1</th>\n",
       "      <td>3aa071139cb16b67ca9e5dea641aaa2f</td>\n",
       "      <td>artes</td>\n",
       "      <td>44.0</td>\n",
       "      <td>276.0</td>\n",
       "      <td>1.0</td>\n",
       "      <td>1000.0</td>\n",
       "      <td>30.0</td>\n",
       "      <td>18.0</td>\n",
       "      <td>20.0</td>\n",
       "    </tr>\n",
       "    <tr>\n",
       "      <th>2</th>\n",
       "      <td>96bd76ec8810374ed1b65e291975717f</td>\n",
       "      <td>esporte_lazer</td>\n",
       "      <td>46.0</td>\n",
       "      <td>250.0</td>\n",
       "      <td>1.0</td>\n",
       "      <td>154.0</td>\n",
       "      <td>18.0</td>\n",
       "      <td>9.0</td>\n",
       "      <td>15.0</td>\n",
       "    </tr>\n",
       "    <tr>\n",
       "      <th>3</th>\n",
       "      <td>cef67bcfe19066a932b7673e239eb23d</td>\n",
       "      <td>bebes</td>\n",
       "      <td>27.0</td>\n",
       "      <td>261.0</td>\n",
       "      <td>1.0</td>\n",
       "      <td>371.0</td>\n",
       "      <td>26.0</td>\n",
       "      <td>4.0</td>\n",
       "      <td>26.0</td>\n",
       "    </tr>\n",
       "    <tr>\n",
       "      <th>4</th>\n",
       "      <td>9dc1a7de274444849c219cff195d0b71</td>\n",
       "      <td>utilidades_domesticas</td>\n",
       "      <td>37.0</td>\n",
       "      <td>402.0</td>\n",
       "      <td>4.0</td>\n",
       "      <td>625.0</td>\n",
       "      <td>20.0</td>\n",
       "      <td>17.0</td>\n",
       "      <td>13.0</td>\n",
       "    </tr>\n",
       "    <tr>\n",
       "      <th>...</th>\n",
       "      <td>...</td>\n",
       "      <td>...</td>\n",
       "      <td>...</td>\n",
       "      <td>...</td>\n",
       "      <td>...</td>\n",
       "      <td>...</td>\n",
       "      <td>...</td>\n",
       "      <td>...</td>\n",
       "      <td>...</td>\n",
       "    </tr>\n",
       "    <tr>\n",
       "      <th>32946</th>\n",
       "      <td>a0b7d5a992ccda646f2d34e418fff5a0</td>\n",
       "      <td>moveis_decoracao</td>\n",
       "      <td>45.0</td>\n",
       "      <td>67.0</td>\n",
       "      <td>2.0</td>\n",
       "      <td>12300.0</td>\n",
       "      <td>40.0</td>\n",
       "      <td>40.0</td>\n",
       "      <td>40.0</td>\n",
       "    </tr>\n",
       "    <tr>\n",
       "      <th>32947</th>\n",
       "      <td>bf4538d88321d0fd4412a93c974510e6</td>\n",
       "      <td>construcao_ferramentas_iluminacao</td>\n",
       "      <td>41.0</td>\n",
       "      <td>971.0</td>\n",
       "      <td>1.0</td>\n",
       "      <td>1700.0</td>\n",
       "      <td>16.0</td>\n",
       "      <td>19.0</td>\n",
       "      <td>16.0</td>\n",
       "    </tr>\n",
       "    <tr>\n",
       "      <th>32948</th>\n",
       "      <td>9a7c6041fa9592d9d9ef6cfe62a71f8c</td>\n",
       "      <td>cama_mesa_banho</td>\n",
       "      <td>50.0</td>\n",
       "      <td>799.0</td>\n",
       "      <td>1.0</td>\n",
       "      <td>1400.0</td>\n",
       "      <td>27.0</td>\n",
       "      <td>7.0</td>\n",
       "      <td>27.0</td>\n",
       "    </tr>\n",
       "    <tr>\n",
       "      <th>32949</th>\n",
       "      <td>83808703fc0706a22e264b9d75f04a2e</td>\n",
       "      <td>informatica_acessorios</td>\n",
       "      <td>60.0</td>\n",
       "      <td>156.0</td>\n",
       "      <td>2.0</td>\n",
       "      <td>700.0</td>\n",
       "      <td>31.0</td>\n",
       "      <td>13.0</td>\n",
       "      <td>20.0</td>\n",
       "    </tr>\n",
       "    <tr>\n",
       "      <th>32950</th>\n",
       "      <td>106392145fca363410d287a815be6de4</td>\n",
       "      <td>cama_mesa_banho</td>\n",
       "      <td>58.0</td>\n",
       "      <td>309.0</td>\n",
       "      <td>1.0</td>\n",
       "      <td>2083.0</td>\n",
       "      <td>12.0</td>\n",
       "      <td>2.0</td>\n",
       "      <td>7.0</td>\n",
       "    </tr>\n",
       "  </tbody>\n",
       "</table>\n",
       "<p>32951 rows × 9 columns</p>\n",
       "</div>"
      ],
      "text/plain": [
       "                             product_id              product_category_name  \\\n",
       "0      1e9e8ef04dbcff4541ed26657ea517e5                         perfumaria   \n",
       "1      3aa071139cb16b67ca9e5dea641aaa2f                              artes   \n",
       "2      96bd76ec8810374ed1b65e291975717f                      esporte_lazer   \n",
       "3      cef67bcfe19066a932b7673e239eb23d                              bebes   \n",
       "4      9dc1a7de274444849c219cff195d0b71              utilidades_domesticas   \n",
       "...                                 ...                                ...   \n",
       "32946  a0b7d5a992ccda646f2d34e418fff5a0                   moveis_decoracao   \n",
       "32947  bf4538d88321d0fd4412a93c974510e6  construcao_ferramentas_iluminacao   \n",
       "32948  9a7c6041fa9592d9d9ef6cfe62a71f8c                    cama_mesa_banho   \n",
       "32949  83808703fc0706a22e264b9d75f04a2e             informatica_acessorios   \n",
       "32950  106392145fca363410d287a815be6de4                    cama_mesa_banho   \n",
       "\n",
       "       product_name_lenght  product_description_lenght  product_photos_qty  \\\n",
       "0                     40.0                       287.0                 1.0   \n",
       "1                     44.0                       276.0                 1.0   \n",
       "2                     46.0                       250.0                 1.0   \n",
       "3                     27.0                       261.0                 1.0   \n",
       "4                     37.0                       402.0                 4.0   \n",
       "...                    ...                         ...                 ...   \n",
       "32946                 45.0                        67.0                 2.0   \n",
       "32947                 41.0                       971.0                 1.0   \n",
       "32948                 50.0                       799.0                 1.0   \n",
       "32949                 60.0                       156.0                 2.0   \n",
       "32950                 58.0                       309.0                 1.0   \n",
       "\n",
       "       product_weight_g  product_length_cm  product_height_cm  \\\n",
       "0                 225.0               16.0               10.0   \n",
       "1                1000.0               30.0               18.0   \n",
       "2                 154.0               18.0                9.0   \n",
       "3                 371.0               26.0                4.0   \n",
       "4                 625.0               20.0               17.0   \n",
       "...                 ...                ...                ...   \n",
       "32946           12300.0               40.0               40.0   \n",
       "32947            1700.0               16.0               19.0   \n",
       "32948            1400.0               27.0                7.0   \n",
       "32949             700.0               31.0               13.0   \n",
       "32950            2083.0               12.0                2.0   \n",
       "\n",
       "       product_width_cm  \n",
       "0                  14.0  \n",
       "1                  20.0  \n",
       "2                  15.0  \n",
       "3                  26.0  \n",
       "4                  13.0  \n",
       "...                 ...  \n",
       "32946              40.0  \n",
       "32947              16.0  \n",
       "32948              27.0  \n",
       "32949              20.0  \n",
       "32950               7.0  \n",
       "\n",
       "[32951 rows x 9 columns]"
      ]
     },
     "execution_count": 8,
     "metadata": {},
     "output_type": "execute_result"
    }
   ],
   "source": [
    "data['products']"
   ]
  },
  {
   "cell_type": "markdown",
   "id": "da7c79df",
   "metadata": {},
   "source": [
    "# Exploratory Analysis"
   ]
  },
  {
   "cell_type": "markdown",
   "id": "7dcbb476",
   "metadata": {},
   "source": [
    "Each transaction on the Olist ecommerce platform is characterized by:\n",
    "- a `customer_id`, that would buy...\n",
    "- various`product_id`...\n",
    "- to a `seller_id`...\n",
    "- and leaves a `rewiew_id`...\n",
    "- all this belonging to an `order_id`"
   ]
  },
  {
   "cell_type": "markdown",
   "id": "39aaf911",
   "metadata": {},
   "source": [
    "## - Run an automated exploratory analysis with [pandas profiling](https://github.com/pandas-profiling/pandas-profiling)"
   ]
  },
  {
   "cell_type": "code",
   "execution_count": 9,
   "id": "6a7fd250",
   "metadata": {},
   "outputs": [],
   "source": [
    "!pip install --quiet pandas-profiling"
   ]
  },
  {
   "cell_type": "code",
   "execution_count": 10,
   "id": "aa6af427",
   "metadata": {},
   "outputs": [],
   "source": [
    "!mkdir -p ../../O-list/data/reports"
   ]
  },
  {
   "cell_type": "code",
   "execution_count": 11,
   "id": "dbead97e",
   "metadata": {},
   "outputs": [],
   "source": [
    "import pandas_profiling\n",
    "\n",
    "datasets_to_profile = ['orders', 'products', 'sellers',\n",
    "                  'customers', 'order_reviews',\n",
    "                  'order_items']"
   ]
  },
  {
   "cell_type": "markdown",
   "id": "c556e975",
   "metadata": {},
   "source": [
    "👉 Create and save one `html report` per dataset to profile "
   ]
  },
  {
   "cell_type": "code",
   "execution_count": 12,
   "id": "8c053556",
   "metadata": {},
   "outputs": [],
   "source": [
    "#for d in datasets_to_profile:\n",
    " #   print('exporting: '+d)\n",
    "  #  profile = data[d].profile_report(title='Report for '+d)\n",
    "   # profile.to_file(output_file=\"../../O-list/data/reports/\"+d+'.html');"
   ]
  },
  {
   "cell_type": "markdown",
   "id": "1432fefe",
   "metadata": {},
   "source": [
    "##  Investigate the cardinalities of your various DataFrames"
   ]
  },
  {
   "cell_type": "markdown",
   "id": "c1074d61",
   "metadata": {},
   "source": [
    "❓ **How many unique `orders`, `reviews`, `sellers`, `products` and `customers` are there ?**  "
   ]
  },
  {
   "cell_type": "code",
   "execution_count": 13,
   "id": "6ee112f2",
   "metadata": {},
   "outputs": [
    {
     "data": {
      "text/html": [
       "<div>\n",
       "<style scoped>\n",
       "    .dataframe tbody tr th:only-of-type {\n",
       "        vertical-align: middle;\n",
       "    }\n",
       "\n",
       "    .dataframe tbody tr th {\n",
       "        vertical-align: top;\n",
       "    }\n",
       "\n",
       "    .dataframe thead th {\n",
       "        text-align: right;\n",
       "    }\n",
       "</style>\n",
       "<table border=\"1\" class=\"dataframe\">\n",
       "  <thead>\n",
       "    <tr style=\"text-align: right;\">\n",
       "      <th></th>\n",
       "      <th>nunique</th>\n",
       "      <th>count</th>\n",
       "      <th>ratio</th>\n",
       "    </tr>\n",
       "  </thead>\n",
       "  <tbody>\n",
       "    <tr>\n",
       "      <th>orders</th>\n",
       "      <td>99441.0</td>\n",
       "      <td>99441.0</td>\n",
       "      <td>1.000000</td>\n",
       "    </tr>\n",
       "    <tr>\n",
       "      <th>reviews</th>\n",
       "      <td>98410.0</td>\n",
       "      <td>99224.0</td>\n",
       "      <td>0.991796</td>\n",
       "    </tr>\n",
       "    <tr>\n",
       "      <th>sellers</th>\n",
       "      <td>3095.0</td>\n",
       "      <td>3095.0</td>\n",
       "      <td>1.000000</td>\n",
       "    </tr>\n",
       "    <tr>\n",
       "      <th>products</th>\n",
       "      <td>32951.0</td>\n",
       "      <td>32951.0</td>\n",
       "      <td>1.000000</td>\n",
       "    </tr>\n",
       "    <tr>\n",
       "      <th>customers</th>\n",
       "      <td>99441.0</td>\n",
       "      <td>99441.0</td>\n",
       "      <td>1.000000</td>\n",
       "    </tr>\n",
       "  </tbody>\n",
       "</table>\n",
       "</div>"
      ],
      "text/plain": [
       "           nunique    count     ratio\n",
       "orders     99441.0  99441.0  1.000000\n",
       "reviews    98410.0  99224.0  0.991796\n",
       "sellers     3095.0   3095.0  1.000000\n",
       "products   32951.0  32951.0  1.000000\n",
       "customers  99441.0  99441.0  1.000000"
      ]
     },
     "execution_count": 13,
     "metadata": {},
     "output_type": "execute_result"
    }
   ],
   "source": [
    "aggregates = np.array([\n",
    "    [\n",
    "        data[\"orders\"].order_id.nunique(),\n",
    "        data[\"order_reviews\"].review_id.nunique(),\n",
    "        data[\"sellers\"].seller_id.nunique(),\n",
    "        data[\"products\"].product_id.nunique(),\n",
    "        data[\"customers\"].customer_id.nunique(),\n",
    "    ],\n",
    "    [\n",
    "        data[\"orders\"].order_id.count(),\n",
    "        data[\"order_reviews\"].review_id.count(),\n",
    "        data[\"sellers\"].seller_id.count(),\n",
    "        data[\"products\"].product_id.count(),\n",
    "        data[\"customers\"].customer_id.count(),\n",
    "    ],\n",
    "])\n",
    "\n",
    "pd.DataFrame(data=np.vstack((aggregates, aggregates[0,:]/aggregates[1,:])).T,\n",
    "             index=['orders', 'reviews', 'sellers', 'products', 'customers'],\n",
    "            columns=['nunique', 'count','ratio'])"
   ]
  },
  {
   "cell_type": "markdown",
   "id": "9fb32773",
   "metadata": {},
   "source": [
    "❓ **How many reviews are there per order? Do we have reviews for all orders ?**\n",
    "\n",
    "This info is not directly accessible in our individual csv hence we need to proceed to merge.\n"
   ]
  },
  {
   "cell_type": "code",
   "execution_count": 14,
   "id": "3f0dfd1d",
   "metadata": {},
   "outputs": [],
   "source": [
    "orders = data['orders'][['customer_id', 'order_id']]\n",
    "reviews = data['order_reviews'][['order_id', 'review_id']]\n",
    "items = data['order_items'][['order_id', 'product_id','seller_id']]"
   ]
  },
  {
   "cell_type": "code",
   "execution_count": 15,
   "id": "f829a4b7",
   "metadata": {},
   "outputs": [
    {
     "data": {
      "text/html": [
       "<div>\n",
       "<style scoped>\n",
       "    .dataframe tbody tr th:only-of-type {\n",
       "        vertical-align: middle;\n",
       "    }\n",
       "\n",
       "    .dataframe tbody tr th {\n",
       "        vertical-align: top;\n",
       "    }\n",
       "\n",
       "    .dataframe thead th {\n",
       "        text-align: right;\n",
       "    }\n",
       "</style>\n",
       "<table border=\"1\" class=\"dataframe\">\n",
       "  <thead>\n",
       "    <tr style=\"text-align: right;\">\n",
       "      <th></th>\n",
       "      <th>customer_id</th>\n",
       "      <th>order_id</th>\n",
       "      <th>review_id</th>\n",
       "    </tr>\n",
       "  </thead>\n",
       "  <tbody>\n",
       "    <tr>\n",
       "      <th>0</th>\n",
       "      <td>9ef432eb6251297304e76186b10a928d</td>\n",
       "      <td>e481f51cbdc54678b7cc49136f2d6af7</td>\n",
       "      <td>a54f0611adc9ed256b57ede6b6eb5114</td>\n",
       "    </tr>\n",
       "    <tr>\n",
       "      <th>1</th>\n",
       "      <td>b0830fb4747a6c6d20dea0b8c802d7ef</td>\n",
       "      <td>53cdb2fc8bc7dce0b6741e2150273451</td>\n",
       "      <td>8d5266042046a06655c8db133d120ba5</td>\n",
       "    </tr>\n",
       "  </tbody>\n",
       "</table>\n",
       "</div>"
      ],
      "text/plain": [
       "                        customer_id                          order_id  \\\n",
       "0  9ef432eb6251297304e76186b10a928d  e481f51cbdc54678b7cc49136f2d6af7   \n",
       "1  b0830fb4747a6c6d20dea0b8c802d7ef  53cdb2fc8bc7dce0b6741e2150273451   \n",
       "\n",
       "                          review_id  \n",
       "0  a54f0611adc9ed256b57ede6b6eb5114  \n",
       "1  8d5266042046a06655c8db133d120ba5  "
      ]
     },
     "execution_count": 15,
     "metadata": {},
     "output_type": "execute_result"
    }
   ],
   "source": [
    "orders_reviews = orders.merge(reviews, on='order_id', how='outer')\n",
    "orders_reviews.head(2)"
   ]
  },
  {
   "cell_type": "code",
   "execution_count": 16,
   "id": "99ae4e7d",
   "metadata": {},
   "outputs": [
    {
     "data": {
      "text/plain": [
       "customer_id      0\n",
       "order_id         0\n",
       "review_id      768\n",
       "dtype: int64"
      ]
     },
     "execution_count": 16,
     "metadata": {},
     "output_type": "execute_result"
    }
   ],
   "source": [
    "# Check missing reviews?\n",
    "orders_reviews.isna().sum()"
   ]
  },
  {
   "cell_type": "markdown",
   "id": "bc1d05c5",
   "metadata": {},
   "source": [
    "☝️ Nearly all orders have a review, except 768 out of 100k (less than 0.7% missing)"
   ]
  },
  {
   "cell_type": "code",
   "execution_count": 17,
   "id": "8e98d3ed",
   "metadata": {},
   "outputs": [
    {
     "data": {
      "image/png": "[encoded data removed]",
      "text/plain": [
       "<Figure size 432x288 with 1 Axes>"
      ]
     },
     "metadata": {
      "needs_background": "light"
     },
     "output_type": "display_data"
    }
   ],
   "source": [
    "# We need to add the following magic command to make sure the plot displays correctly!\n",
    "%matplotlib inline\n",
    "\n",
    "# Check for max number of reviews per order\n",
    "orders_reviews.groupby([\"order_id\", \"customer_id\"]).count().hist();"
   ]
  },
  {
   "cell_type": "markdown",
   "id": "350d9959",
   "metadata": {},
   "source": [
    "☝️ Nearly all orders have only one review per customer. We are safe!"
   ]
  },
  {
   "cell_type": "code",
   "execution_count": 18,
   "id": "a69098cc",
   "metadata": {},
   "outputs": [],
   "source": [
    "#number of missing reviews\n",
    "n_missing_reviews = orders_reviews.isna().sum()['review_id']"
   ]
  },
  {
   "cell_type": "markdown",
   "id": "be24900a",
   "metadata": {},
   "source": [
    "# Olist's Metric Design "
   ]
  },
  {
   "cell_type": "markdown",
   "id": "f4e173c0",
   "metadata": {},
   "source": [
    "Here, we are going to catch a first glimpse into `Olist's business health` graphs."
   ]
  },
  {
   "cell_type": "markdown",
   "id": "ec02bd1c",
   "metadata": {},
   "source": [
    "- Review score"
   ]
  },
  {
   "cell_type": "code",
   "execution_count": 19,
   "id": "a40f245b",
   "metadata": {},
   "outputs": [
    {
     "data": {
      "text/plain": [
       "<AxesSubplot:xlabel='review_score', ylabel='count'>"
      ]
     },
     "execution_count": 19,
     "metadata": {},
     "output_type": "execute_result"
    },
    {
     "data": {
      "image/png": "[encoded data removed]",
      "text/plain": [
       "<Figure size 432x288 with 1 Axes>"
      ]
     },
     "metadata": {
      "needs_background": "light"
     },
     "output_type": "display_data"
    }
   ],
   "source": [
    "sns.countplot(x='review_score', data=data['order_reviews'])"
   ]
  },
  {
   "cell_type": "markdown",
   "id": "3726cc5a",
   "metadata": {},
   "source": [
    "- Order status"
   ]
  },
  {
   "cell_type": "code",
   "execution_count": 20,
   "id": "103a84f5",
   "metadata": {},
   "outputs": [
    {
     "data": {
      "text/plain": [
       "<AxesSubplot:xlabel='order_status', ylabel='count'>"
      ]
     },
     "execution_count": 20,
     "metadata": {},
     "output_type": "execute_result"
    },
    {
     "data": {
      "image/png": "[encoded data removed]",
      "text/plain": [
       "<Figure size 720x432 with 1 Axes>"
      ]
     },
     "metadata": {
      "needs_background": "light"
     },
     "output_type": "display_data"
    }
   ],
   "source": [
    "plt.figure(figsize = (10,6))\n",
    "sns.countplot(data = data['orders'], x = 'order_status')"
   ]
  },
  {
   "cell_type": "markdown",
   "id": "e36d44d0",
   "metadata": {},
   "source": [
    "❓ How many orders were delivered,shipped or canceled ? ..."
   ]
  },
  {
   "cell_type": "code",
   "execution_count": 21,
   "id": "0c9528b1",
   "metadata": {},
   "outputs": [
    {
     "data": {
      "text/plain": [
       "delivered      96478\n",
       "shipped         1107\n",
       "canceled         625\n",
       "unavailable      609\n",
       "invoiced         314\n",
       "processing       301\n",
       "created            5\n",
       "approved           2\n",
       "Name: order_status, dtype: int64"
      ]
     },
     "execution_count": 21,
     "metadata": {},
     "output_type": "execute_result"
    }
   ],
   "source": [
    "data['orders']['order_status'].value_counts()"
   ]
  },
  {
   "cell_type": "markdown",
   "id": "d5b51676",
   "metadata": {},
   "source": [
    "We know that each `review` has a unique `order`.\n",
    "\n",
    "🤔 Do all `orders` have a `review`?"
   ]
  },
  {
   "cell_type": "code",
   "execution_count": 22,
   "id": "38e2e92c",
   "metadata": {},
   "outputs": [
    {
     "data": {
      "text/plain": [
       "order_id          0\n",
       "review_score    768\n",
       "dtype: int64"
      ]
     },
     "execution_count": 22,
     "metadata": {},
     "output_type": "execute_result"
    }
   ],
   "source": [
    "orders_reviews = data['orders'].merge(data['order_reviews'], on='order_id', how='left')\n",
    "orders_reviews[['order_id','review_score']].isna().sum()"
   ]
  },
  {
   "cell_type": "markdown",
   "id": "1b6caf8d",
   "metadata": {},
   "source": [
    "If some orders were not reviewed, we're going to count and group them per `order_status`."
   ]
  },
  {
   "cell_type": "code",
   "execution_count": 23,
   "id": "299f707b",
   "metadata": {},
   "outputs": [
    {
     "data": {
      "text/plain": [
       "order_status\n",
       "delivered      646\n",
       "shipped         75\n",
       "canceled        20\n",
       "unavailable     14\n",
       "processing       6\n",
       "invoiced         5\n",
       "created          2\n",
       "approved         0\n",
       "Name: review_score, dtype: int64"
      ]
     },
     "execution_count": 23,
     "metadata": {},
     "output_type": "execute_result"
    }
   ],
   "source": [
    "orders_reviews.groupby(['order_status'])['review_score'].apply(lambda s: s.isna().sum()).sort_values(ascending = False)"
   ]
  },
  {
   "cell_type": "markdown",
   "id": "0d58c5c4",
   "metadata": {},
   "source": [
    "## Key business metrics over the past 14 months"
   ]
  },
  {
   "cell_type": "markdown",
   "id": "b33a4828",
   "metadata": {},
   "source": [
    "**Metrics**\n",
    "\n",
    "1. Which metric should we use as a `key business output metric`for Olist  📈 ? \n",
    "2. Which metric should we use to measure that a customer had a `good experience with Olist` 🙂 ? \n",
    "3. Which metric should we use to measure `shipping delay` 🕗?\n",
    "\n",
    "For each metric, we are going to plot a trend line over time."
   ]
  },
  {
   "cell_type": "markdown",
   "id": "224821a2",
   "metadata": {},
   "source": [
    "### Metric 1: Order numbers\n",
    "\n",
    "❓ Plot the weekly number of total orders per week (to check how business is going)  \n"
   ]
  },
  {
   "cell_type": "code",
   "execution_count": 24,
   "id": "a6443714",
   "metadata": {},
   "outputs": [],
   "source": [
    "# Orders dataset\n",
    "orders = data['orders'].copy()\n",
    "# Handle datetime\n",
    "orders['order_purchase_timestamp'] = pd.to_datetime(orders['order_purchase_timestamp'])\n",
    "orders = orders.set_index('order_purchase_timestamp').sort_index()"
   ]
  },
  {
   "cell_type": "code",
   "execution_count": 25,
   "id": "98cceba7",
   "metadata": {},
   "outputs": [
    {
     "data": {
      "text/plain": [
       "Text(0.5, 1.0, 'weekly orders (total)')"
      ]
     },
     "execution_count": 25,
     "metadata": {},
     "output_type": "execute_result"
    },
    {
     "data": {
      "image/png": "[encoded data removed]",
      "text/plain": [
       "<Figure size 432x288 with 1 Axes>"
      ]
     },
     "metadata": {
      "needs_background": "light"
     },
     "output_type": "display_data"
    }
   ],
   "source": [
    "orders.resample('W')['order_id'].count().plot(color='g')\n",
    "plt.title('weekly orders (total)')"
   ]
  },
  {
   "cell_type": "markdown",
   "id": "70768875",
   "metadata": {},
   "source": [
    "❓ A visualization of the weekly number of non-delivered orders (to check for any potential issues)"
   ]
  },
  {
   "cell_type": "code",
   "execution_count": 26,
   "id": "286bcad5",
   "metadata": {},
   "outputs": [
    {
     "data": {
      "text/plain": [
       "Text(0.5, 1.0, 'weekly non-delivered orders')"
      ]
     },
     "execution_count": 26,
     "metadata": {},
     "output_type": "execute_result"
    },
    {
     "data": {
      "image/png": "[encoded data removed]",
      "text/plain": [
       "<Figure size 432x288 with 1 Axes>"
      ]
     },
     "metadata": {
      "needs_background": "light"
     },
     "output_type": "display_data"
    }
   ],
   "source": [
    "orders.sort_index().query(\"order_status != 'delivered'\").loc['2017-02-01':].resample('W')['order_id'].count().plot(color='r')\n",
    "plt.title('weekly non-delivered orders')"
   ]
  },
  {
   "cell_type": "markdown",
   "id": "eb5ecfca",
   "metadata": {},
   "source": [
    "### Metric 2: Total payment values\n",
    "❓ After plotting the total number of orders, we could also have a look at the weekly sum of `payment_value` in `BRL` to approximate Olist's weekly revenues."
   ]
  },
  {
   "cell_type": "code",
   "execution_count": 27,
   "id": "adb3c819",
   "metadata": {},
   "outputs": [
    {
     "data": {
      "text/html": [
       "<div>\n",
       "<style scoped>\n",
       "    .dataframe tbody tr th:only-of-type {\n",
       "        vertical-align: middle;\n",
       "    }\n",
       "\n",
       "    .dataframe tbody tr th {\n",
       "        vertical-align: top;\n",
       "    }\n",
       "\n",
       "    .dataframe thead th {\n",
       "        text-align: right;\n",
       "    }\n",
       "</style>\n",
       "<table border=\"1\" class=\"dataframe\">\n",
       "  <thead>\n",
       "    <tr style=\"text-align: right;\">\n",
       "      <th></th>\n",
       "      <th>order_id</th>\n",
       "      <th>payment_sequential</th>\n",
       "      <th>payment_type</th>\n",
       "      <th>payment_installments</th>\n",
       "      <th>payment_value</th>\n",
       "    </tr>\n",
       "  </thead>\n",
       "  <tbody>\n",
       "    <tr>\n",
       "      <th>0</th>\n",
       "      <td>b81ef226f3fe1789b1e8b2acac839d17</td>\n",
       "      <td>1</td>\n",
       "      <td>credit_card</td>\n",
       "      <td>8</td>\n",
       "      <td>99.33</td>\n",
       "    </tr>\n",
       "    <tr>\n",
       "      <th>1</th>\n",
       "      <td>a9810da82917af2d9aefd1278f1dcfa0</td>\n",
       "      <td>1</td>\n",
       "      <td>credit_card</td>\n",
       "      <td>1</td>\n",
       "      <td>24.39</td>\n",
       "    </tr>\n",
       "    <tr>\n",
       "      <th>2</th>\n",
       "      <td>25e8ea4e93396b6fa0d3dd708e76c1bd</td>\n",
       "      <td>1</td>\n",
       "      <td>credit_card</td>\n",
       "      <td>1</td>\n",
       "      <td>65.71</td>\n",
       "    </tr>\n",
       "    <tr>\n",
       "      <th>3</th>\n",
       "      <td>ba78997921bbcdc1373bb41e913ab953</td>\n",
       "      <td>1</td>\n",
       "      <td>credit_card</td>\n",
       "      <td>8</td>\n",
       "      <td>107.78</td>\n",
       "    </tr>\n",
       "    <tr>\n",
       "      <th>4</th>\n",
       "      <td>42fdf880ba16b47b59251dd489d4441a</td>\n",
       "      <td>1</td>\n",
       "      <td>credit_card</td>\n",
       "      <td>2</td>\n",
       "      <td>128.45</td>\n",
       "    </tr>\n",
       "  </tbody>\n",
       "</table>\n",
       "</div>"
      ],
      "text/plain": [
       "                           order_id  payment_sequential payment_type  \\\n",
       "0  b81ef226f3fe1789b1e8b2acac839d17                   1  credit_card   \n",
       "1  a9810da82917af2d9aefd1278f1dcfa0                   1  credit_card   \n",
       "2  25e8ea4e93396b6fa0d3dd708e76c1bd                   1  credit_card   \n",
       "3  ba78997921bbcdc1373bb41e913ab953                   1  credit_card   \n",
       "4  42fdf880ba16b47b59251dd489d4441a                   1  credit_card   \n",
       "\n",
       "   payment_installments  payment_value  \n",
       "0                     8          99.33  \n",
       "1                     1          24.39  \n",
       "2                     1          65.71  \n",
       "3                     8         107.78  \n",
       "4                     2         128.45  "
      ]
     },
     "execution_count": 27,
     "metadata": {},
     "output_type": "execute_result"
    }
   ],
   "source": [
    "data['order_payments'].head()"
   ]
  },
  {
   "cell_type": "code",
   "execution_count": 28,
   "id": "c5c3d1fe",
   "metadata": {},
   "outputs": [
    {
     "data": {
      "text/html": [
       "<div>\n",
       "<style scoped>\n",
       "    .dataframe tbody tr th:only-of-type {\n",
       "        vertical-align: middle;\n",
       "    }\n",
       "\n",
       "    .dataframe tbody tr th {\n",
       "        vertical-align: top;\n",
       "    }\n",
       "\n",
       "    .dataframe thead th {\n",
       "        text-align: right;\n",
       "    }\n",
       "</style>\n",
       "<table border=\"1\" class=\"dataframe\">\n",
       "  <thead>\n",
       "    <tr style=\"text-align: right;\">\n",
       "      <th></th>\n",
       "      <th>order_payment_value</th>\n",
       "    </tr>\n",
       "    <tr>\n",
       "      <th>order_id</th>\n",
       "      <th></th>\n",
       "    </tr>\n",
       "  </thead>\n",
       "  <tbody>\n",
       "    <tr>\n",
       "      <th>00010242fe8c5a6d1ba2dd792cb16214</th>\n",
       "      <td>72.19</td>\n",
       "    </tr>\n",
       "    <tr>\n",
       "      <th>00018f77f2f0320c557190d7a144bdd3</th>\n",
       "      <td>259.83</td>\n",
       "    </tr>\n",
       "    <tr>\n",
       "      <th>000229ec398224ef6ca0657da4fc703e</th>\n",
       "      <td>216.87</td>\n",
       "    </tr>\n",
       "    <tr>\n",
       "      <th>00024acbcdf0a6daa1e931b038114c75</th>\n",
       "      <td>25.78</td>\n",
       "    </tr>\n",
       "    <tr>\n",
       "      <th>00042b26cf59d7ce69dfabb4e55b4fd9</th>\n",
       "      <td>218.04</td>\n",
       "    </tr>\n",
       "  </tbody>\n",
       "</table>\n",
       "</div>"
      ],
      "text/plain": [
       "                                  order_payment_value\n",
       "order_id                                             \n",
       "00010242fe8c5a6d1ba2dd792cb16214                72.19\n",
       "00018f77f2f0320c557190d7a144bdd3               259.83\n",
       "000229ec398224ef6ca0657da4fc703e               216.87\n",
       "00024acbcdf0a6daa1e931b038114c75                25.78\n",
       "00042b26cf59d7ce69dfabb4e55b4fd9               218.04"
      ]
     },
     "execution_count": 28,
     "metadata": {},
     "output_type": "execute_result"
    }
   ],
   "source": [
    "order_ids_payments = data['order_payments'].groupby('order_id').sum()[['payment_value']]\n",
    "order_ids_payments.rename(columns={'payment_value': 'order_payment_value'}, inplace=True)\n",
    "order_ids_payments.head()"
   ]
  },
  {
   "cell_type": "markdown",
   "id": "d81bcacd",
   "metadata": {},
   "source": [
    "💡 Merge the `payments` dataset with the `orders` dataset to collect the date of each payment."
   ]
  },
  {
   "cell_type": "code",
   "execution_count": 29,
   "id": "7940b76f",
   "metadata": {},
   "outputs": [],
   "source": [
    "orders_payments = data['orders'].merge(order_ids_payments, on='order_id')"
   ]
  },
  {
   "cell_type": "markdown",
   "id": "cecb2530",
   "metadata": {},
   "source": [
    "⌛️ Once again, handle datetimes properly"
   ]
  },
  {
   "cell_type": "code",
   "execution_count": 30,
   "id": "b415439c",
   "metadata": {},
   "outputs": [
    {
     "data": {
      "text/html": [
       "<div>\n",
       "<style scoped>\n",
       "    .dataframe tbody tr th:only-of-type {\n",
       "        vertical-align: middle;\n",
       "    }\n",
       "\n",
       "    .dataframe tbody tr th {\n",
       "        vertical-align: top;\n",
       "    }\n",
       "\n",
       "    .dataframe thead th {\n",
       "        text-align: right;\n",
       "    }\n",
       "</style>\n",
       "<table border=\"1\" class=\"dataframe\">\n",
       "  <thead>\n",
       "    <tr style=\"text-align: right;\">\n",
       "      <th></th>\n",
       "      <th>order_id</th>\n",
       "      <th>customer_id</th>\n",
       "      <th>order_status</th>\n",
       "      <th>order_purchase_timestamp</th>\n",
       "      <th>order_approved_at</th>\n",
       "      <th>order_delivered_carrier_date</th>\n",
       "      <th>order_delivered_customer_date</th>\n",
       "      <th>order_estimated_delivery_date</th>\n",
       "      <th>order_payment_value</th>\n",
       "    </tr>\n",
       "  </thead>\n",
       "  <tbody>\n",
       "    <tr>\n",
       "      <th>0</th>\n",
       "      <td>e481f51cbdc54678b7cc49136f2d6af7</td>\n",
       "      <td>9ef432eb6251297304e76186b10a928d</td>\n",
       "      <td>delivered</td>\n",
       "      <td>2017-10-02 10:56:33</td>\n",
       "      <td>2017-10-02 11:07:15</td>\n",
       "      <td>2017-10-04 19:55:00</td>\n",
       "      <td>2017-10-10 21:25:13</td>\n",
       "      <td>2017-10-18</td>\n",
       "      <td>38.71</td>\n",
       "    </tr>\n",
       "    <tr>\n",
       "      <th>1</th>\n",
       "      <td>53cdb2fc8bc7dce0b6741e2150273451</td>\n",
       "      <td>b0830fb4747a6c6d20dea0b8c802d7ef</td>\n",
       "      <td>delivered</td>\n",
       "      <td>2018-07-24 20:41:37</td>\n",
       "      <td>2018-07-26 03:24:27</td>\n",
       "      <td>2018-07-26 14:31:00</td>\n",
       "      <td>2018-08-07 15:27:45</td>\n",
       "      <td>2018-08-13</td>\n",
       "      <td>141.46</td>\n",
       "    </tr>\n",
       "    <tr>\n",
       "      <th>2</th>\n",
       "      <td>47770eb9100c2d0c44946d9cf07ec65d</td>\n",
       "      <td>41ce2a54c0b03bf3443c3d931a367089</td>\n",
       "      <td>delivered</td>\n",
       "      <td>2018-08-08 08:38:49</td>\n",
       "      <td>2018-08-08 08:55:23</td>\n",
       "      <td>2018-08-08 13:50:00</td>\n",
       "      <td>2018-08-17 18:06:29</td>\n",
       "      <td>2018-09-04</td>\n",
       "      <td>179.12</td>\n",
       "    </tr>\n",
       "    <tr>\n",
       "      <th>3</th>\n",
       "      <td>949d5b44dbf5de918fe9c16f97b45f8a</td>\n",
       "      <td>f88197465ea7920adcdbec7375364d82</td>\n",
       "      <td>delivered</td>\n",
       "      <td>2017-11-18 19:28:06</td>\n",
       "      <td>2017-11-18 19:45:59</td>\n",
       "      <td>2017-11-22 13:39:59</td>\n",
       "      <td>2017-12-02 00:28:42</td>\n",
       "      <td>2017-12-15</td>\n",
       "      <td>72.20</td>\n",
       "    </tr>\n",
       "    <tr>\n",
       "      <th>4</th>\n",
       "      <td>ad21c59c0840e6cb83a9ceb5573f8159</td>\n",
       "      <td>8ab97904e6daea8866dbdbc4fb7aad2c</td>\n",
       "      <td>delivered</td>\n",
       "      <td>2018-02-13 21:18:39</td>\n",
       "      <td>2018-02-13 22:20:29</td>\n",
       "      <td>2018-02-14 19:46:34</td>\n",
       "      <td>2018-02-16 18:17:02</td>\n",
       "      <td>2018-02-26</td>\n",
       "      <td>28.62</td>\n",
       "    </tr>\n",
       "  </tbody>\n",
       "</table>\n",
       "</div>"
      ],
      "text/plain": [
       "                           order_id                       customer_id  \\\n",
       "0  e481f51cbdc54678b7cc49136f2d6af7  9ef432eb6251297304e76186b10a928d   \n",
       "1  53cdb2fc8bc7dce0b6741e2150273451  b0830fb4747a6c6d20dea0b8c802d7ef   \n",
       "2  47770eb9100c2d0c44946d9cf07ec65d  41ce2a54c0b03bf3443c3d931a367089   \n",
       "3  949d5b44dbf5de918fe9c16f97b45f8a  f88197465ea7920adcdbec7375364d82   \n",
       "4  ad21c59c0840e6cb83a9ceb5573f8159  8ab97904e6daea8866dbdbc4fb7aad2c   \n",
       "\n",
       "  order_status order_purchase_timestamp   order_approved_at  \\\n",
       "0    delivered      2017-10-02 10:56:33 2017-10-02 11:07:15   \n",
       "1    delivered      2018-07-24 20:41:37 2018-07-26 03:24:27   \n",
       "2    delivered      2018-08-08 08:38:49 2018-08-08 08:55:23   \n",
       "3    delivered      2017-11-18 19:28:06 2017-11-18 19:45:59   \n",
       "4    delivered      2018-02-13 21:18:39 2018-02-13 22:20:29   \n",
       "\n",
       "  order_delivered_carrier_date order_delivered_customer_date  \\\n",
       "0          2017-10-04 19:55:00           2017-10-10 21:25:13   \n",
       "1          2018-07-26 14:31:00           2018-08-07 15:27:45   \n",
       "2          2018-08-08 13:50:00           2018-08-17 18:06:29   \n",
       "3          2017-11-22 13:39:59           2017-12-02 00:28:42   \n",
       "4          2018-02-14 19:46:34           2018-02-16 18:17:02   \n",
       "\n",
       "  order_estimated_delivery_date  order_payment_value  \n",
       "0                    2017-10-18                38.71  \n",
       "1                    2018-08-13               141.46  \n",
       "2                    2018-09-04               179.12  \n",
       "3                    2017-12-15                72.20  \n",
       "4                    2018-02-26                28.62  "
      ]
     },
     "execution_count": 30,
     "metadata": {},
     "output_type": "execute_result"
    }
   ],
   "source": [
    "# handle datetime\n",
    "for col in ['order_purchase_timestamp', 'order_approved_at', \\\n",
    "            'order_delivered_carrier_date', 'order_delivered_customer_date', 'order_estimated_delivery_date']: \n",
    "    orders_payments[col] = pd.to_datetime(orders_payments[col])\n",
    "orders_payments.head()"
   ]
  },
  {
   "cell_type": "markdown",
   "id": "82671d7f",
   "metadata": {},
   "source": [
    "📈 Visualization of the number of orders and total amount of payments per week"
   ]
  },
  {
   "cell_type": "code",
   "execution_count": 31,
   "id": "366aa1d5",
   "metadata": {
    "scrolled": true
   },
   "outputs": [
    {
     "data": {
      "text/plain": [
       "Text(0.5, 1.0, 'Weekly orders values')"
      ]
     },
     "execution_count": 31,
     "metadata": {},
     "output_type": "execute_result"
    },
    {
     "data": {
      "image/png": "[encoded data removed]",
      "text/plain": [
       "<Figure size 432x288 with 1 Axes>"
      ]
     },
     "metadata": {
      "needs_background": "light"
     },
     "output_type": "display_data"
    }
   ],
   "source": [
    "weekly_orders_payments = orders_payments.set_index('order_purchase_timestamp').resample('W')\n",
    "weekly_orders_payments.count()['order_id'].plot(label='Numbers')\n",
    "weekly_orders_payments.sum()['order_payment_value'].apply(lambda x: x/1000).plot(label='Weekly payments (kR)')\n",
    "weekly_orders_payments.mean()['order_payment_value'].plot(label = 'Mean payments (R)')\n",
    "plt.legend()\n",
    "plt.title('Weekly orders values')"
   ]
  },
  {
   "cell_type": "code",
   "execution_count": 32,
   "id": "81a94c67",
   "metadata": {},
   "outputs": [
    {
     "data": {
      "image/png": "[encoded data removed]",
      "text/plain": [
       "<Figure size 1008x576 with 2 Axes>"
      ]
     },
     "metadata": {
      "needs_background": "light"
     },
     "output_type": "display_data"
    }
   ],
   "source": [
    "# Plot numbers of weekly orders purchased\n",
    "\n",
    "with plt.style.context('seaborn-deep'):\n",
    "    # figsize\n",
    "    plt.figure(figsize=(14,8))\n",
    "    # getting axes\n",
    "    ax1 = plt.gca()\n",
    "    # duplicating the ax1\n",
    "    ax2 = ax1.twinx()\n",
    "    # Weekly payments and Mean Payments\n",
    "    \n",
    "    ax1.plot(weekly_orders_payments.sum()['order_payment_value'].apply(lambda x: x/1000),\n",
    "             color=\"orange\",\n",
    "             label=\"Weekly payments in kR\")\n",
    "    ax1.plot(weekly_orders_payments.mean()['order_payment_value'],\n",
    "             label=\"Mean Payments in R\")\n",
    "    ax1.set_xlabel(\"Weeks\", \n",
    "                   fontsize = 16, \n",
    "                   labelpad = 10)\n",
    "    ax1.set_ylabel(\"Payments\", \n",
    "                   fontsize = 16, \n",
    "                   labelpad = 20)\n",
    "\n",
    "    # Numbers\n",
    "    ax2.plot(weekly_orders_payments.count()['order_id'],\n",
    "             label=\"Numbers\",\n",
    "             c=\"black\")\n",
    "    ax2.set_ylabel(\"Volumes\", \n",
    "                   fontsize = 16, \n",
    "                   rotation = 90*3, \n",
    "                   labelpad = 20)\n",
    "\n",
    "    # Get a common legend\n",
    "    lines, labels = ax1.get_legend_handles_labels()\n",
    "    lines2, labels2 = ax2.get_legend_handles_labels()\n",
    "    ax2.legend(lines + lines2, labels + labels2, loc='upper left')\n",
    "\n",
    "    # Title\n",
    "    ax1.set_title('Orders per week', \n",
    "                  fontsize = 20, \n",
    "                  pad = 10)\n",
    "\n",
    "    # Grid\n",
    "    ax1.grid(axis=\"x\",linewidth=0.5)\n",
    "    ax1.grid(axis=\"y\",linewidth=0.5)\n",
    "    plt.show()"
   ]
  },
  {
   "cell_type": "markdown",
   "id": "db785c3d",
   "metadata": {},
   "source": [
    "### Metric 3: Customer Satisfaction\n",
    "❓ How does the `customer satisfaction` evolve on a monthly basis ? We will use the mean average `review_score` to illustrate the customer satisfaction."
   ]
  },
  {
   "cell_type": "markdown",
   "id": "9c61821d",
   "metadata": {},
   "source": [
    "👉 Load the `reviews` :"
   ]
  },
  {
   "cell_type": "code",
   "execution_count": 33,
   "id": "4c648306",
   "metadata": {},
   "outputs": [],
   "source": [
    "reviews = data['order_reviews'].copy()"
   ]
  },
  {
   "cell_type": "code",
   "execution_count": 34,
   "id": "ae42ccdc",
   "metadata": {},
   "outputs": [
    {
     "data": {
      "text/html": [
       "<div>\n",
       "<style scoped>\n",
       "    .dataframe tbody tr th:only-of-type {\n",
       "        vertical-align: middle;\n",
       "    }\n",
       "\n",
       "    .dataframe tbody tr th {\n",
       "        vertical-align: top;\n",
       "    }\n",
       "\n",
       "    .dataframe thead th {\n",
       "        text-align: right;\n",
       "    }\n",
       "</style>\n",
       "<table border=\"1\" class=\"dataframe\">\n",
       "  <thead>\n",
       "    <tr style=\"text-align: right;\">\n",
       "      <th></th>\n",
       "      <th>review_id</th>\n",
       "      <th>order_id</th>\n",
       "      <th>review_score</th>\n",
       "      <th>review_comment_title</th>\n",
       "      <th>review_comment_message</th>\n",
       "      <th>review_creation_date</th>\n",
       "      <th>review_answer_timestamp</th>\n",
       "    </tr>\n",
       "  </thead>\n",
       "  <tbody>\n",
       "    <tr>\n",
       "      <th>0</th>\n",
       "      <td>7bc2406110b926393aa56f80a40eba40</td>\n",
       "      <td>73fc7af87114b39712e6da79b0a377eb</td>\n",
       "      <td>4</td>\n",
       "      <td>NaN</td>\n",
       "      <td>NaN</td>\n",
       "      <td>2018-01-18 00:00:00</td>\n",
       "      <td>2018-01-18 21:46:59</td>\n",
       "    </tr>\n",
       "    <tr>\n",
       "      <th>1</th>\n",
       "      <td>80e641a11e56f04c1ad469d5645fdfde</td>\n",
       "      <td>a548910a1c6147796b98fdf73dbeba33</td>\n",
       "      <td>5</td>\n",
       "      <td>NaN</td>\n",
       "      <td>NaN</td>\n",
       "      <td>2018-03-10 00:00:00</td>\n",
       "      <td>2018-03-11 03:05:13</td>\n",
       "    </tr>\n",
       "    <tr>\n",
       "      <th>2</th>\n",
       "      <td>228ce5500dc1d8e020d8d1322874b6f0</td>\n",
       "      <td>f9e4b658b201a9f2ecdecbb34bed034b</td>\n",
       "      <td>5</td>\n",
       "      <td>NaN</td>\n",
       "      <td>NaN</td>\n",
       "      <td>2018-02-17 00:00:00</td>\n",
       "      <td>2018-02-18 14:36:24</td>\n",
       "    </tr>\n",
       "    <tr>\n",
       "      <th>3</th>\n",
       "      <td>e64fb393e7b32834bb789ff8bb30750e</td>\n",
       "      <td>658677c97b385a9be170737859d3511b</td>\n",
       "      <td>5</td>\n",
       "      <td>NaN</td>\n",
       "      <td>Recebi bem antes do prazo estipulado.</td>\n",
       "      <td>2017-04-21 00:00:00</td>\n",
       "      <td>2017-04-21 22:02:06</td>\n",
       "    </tr>\n",
       "    <tr>\n",
       "      <th>4</th>\n",
       "      <td>f7c4243c7fe1938f181bec41a392bdeb</td>\n",
       "      <td>8e6bfb81e283fa7e4f11123a3fb894f1</td>\n",
       "      <td>5</td>\n",
       "      <td>NaN</td>\n",
       "      <td>Parabéns lojas lannister adorei comprar pela I...</td>\n",
       "      <td>2018-03-01 00:00:00</td>\n",
       "      <td>2018-03-02 10:26:53</td>\n",
       "    </tr>\n",
       "  </tbody>\n",
       "</table>\n",
       "</div>"
      ],
      "text/plain": [
       "                          review_id                          order_id  \\\n",
       "0  7bc2406110b926393aa56f80a40eba40  73fc7af87114b39712e6da79b0a377eb   \n",
       "1  80e641a11e56f04c1ad469d5645fdfde  a548910a1c6147796b98fdf73dbeba33   \n",
       "2  228ce5500dc1d8e020d8d1322874b6f0  f9e4b658b201a9f2ecdecbb34bed034b   \n",
       "3  e64fb393e7b32834bb789ff8bb30750e  658677c97b385a9be170737859d3511b   \n",
       "4  f7c4243c7fe1938f181bec41a392bdeb  8e6bfb81e283fa7e4f11123a3fb894f1   \n",
       "\n",
       "   review_score review_comment_title  \\\n",
       "0             4                  NaN   \n",
       "1             5                  NaN   \n",
       "2             5                  NaN   \n",
       "3             5                  NaN   \n",
       "4             5                  NaN   \n",
       "\n",
       "                              review_comment_message review_creation_date  \\\n",
       "0                                                NaN  2018-01-18 00:00:00   \n",
       "1                                                NaN  2018-03-10 00:00:00   \n",
       "2                                                NaN  2018-02-17 00:00:00   \n",
       "3              Recebi bem antes do prazo estipulado.  2017-04-21 00:00:00   \n",
       "4  Parabéns lojas lannister adorei comprar pela I...  2018-03-01 00:00:00   \n",
       "\n",
       "  review_answer_timestamp  \n",
       "0     2018-01-18 21:46:59  \n",
       "1     2018-03-11 03:05:13  \n",
       "2     2018-02-18 14:36:24  \n",
       "3     2017-04-21 22:02:06  \n",
       "4     2018-03-02 10:26:53  "
      ]
     },
     "execution_count": 34,
     "metadata": {},
     "output_type": "execute_result"
    }
   ],
   "source": [
    "reviews.head()"
   ]
  },
  {
   "cell_type": "code",
   "execution_count": 35,
   "id": "3a0e53cb",
   "metadata": {},
   "outputs": [],
   "source": [
    "#handle datetime\n",
    "reviews['review_creation_date'] = pd.to_datetime(reviews['review_creation_date'])\n",
    "reviews.set_index('review_creation_date', inplace=True)"
   ]
  },
  {
   "cell_type": "markdown",
   "id": "171d49e8",
   "metadata": {},
   "source": [
    "📉 Customer satisfaction evolution over time"
   ]
  },
  {
   "cell_type": "code",
   "execution_count": 36,
   "id": "77fd6545",
   "metadata": {},
   "outputs": [
    {
     "data": {
      "text/plain": [
       "<AxesSubplot:xlabel='review_creation_date'>"
      ]
     },
     "execution_count": 36,
     "metadata": {},
     "output_type": "execute_result"
    },
    {
     "data": {
      "image/png": "[encoded data removed]",
      "text/plain": [
       "<Figure size 432x288 with 1 Axes>"
      ]
     },
     "metadata": {
      "needs_background": "light"
     },
     "output_type": "display_data"
    }
   ],
   "source": [
    "reviews.loc['2017-02-01':].resample('M').agg({'review_score':'mean'}).plot()"
   ]
  },
  {
   "cell_type": "code",
   "execution_count": 37,
   "id": "3d4a0919",
   "metadata": {},
   "outputs": [
    {
     "data": {
      "image/png": "[encoded data removed]",
      "text/plain": [
       "<Figure size 1008x576 with 1 Axes>"
      ]
     },
     "metadata": {
      "needs_background": "light"
     },
     "output_type": "display_data"
    }
   ],
   "source": [
    "# Customer satisfaction over time\n",
    "\n",
    "with plt.style.context('seaborn-deep'):\n",
    "    # figsize\n",
    "    plt.figure(figsize=(14,8))\n",
    "    # getting axes\n",
    "    ax = plt.gca()\n",
    "    # Customer Satisfaction over time\n",
    "    \n",
    "    ax.plot(reviews.loc['2017-02-01':].resample('M').agg({'review_score':'mean'}),\n",
    "            color = \"#000080\", \n",
    "            marker = \"D\", \n",
    "            markersize = 12,\n",
    "            label=\"Review Score\")\n",
    "    ax.set_xlabel(\"Weeks\", fontsize = 16, labelpad = 10)\n",
    "    ax.set_ylabel(\"Review Score\", fontsize = 16, labelpad = 20)\n",
    "\n",
    "    # Get a  legend\n",
    "    ax.legend(loc='lower right', fontsize = 14)\n",
    "\n",
    "    # Title\n",
    "    ax.set_title('Customer Satisfaction over time', fontsize = 20, pad = 10)\n",
    "\n",
    "    # Grid\n",
    "    ax.grid(axis=\"x\",linewidth=0.5)\n",
    "    ax.grid(axis=\"y\",linewidth=0.5)\n",
    "    plt.show()"
   ]
  },
  {
   "cell_type": "markdown",
   "id": "cabf5aa7",
   "metadata": {},
   "source": [
    "### Metric 4: Shipping delay"
   ]
  },
  {
   "cell_type": "markdown",
   "id": "517dfd6c",
   "metadata": {},
   "source": [
    "❓We're going to create two new metrics, `delay_vs_expected` and `wait_time` in ***days***, from the `orders` dataset, and plot their historical evolution on a weekly basis to detect trends"
   ]
  },
  {
   "cell_type": "markdown",
   "id": "60bbb334",
   "metadata": {},
   "source": [
    "🛒 Let's focus on delivered orders so that we can compute the shipping delays:"
   ]
  },
  {
   "cell_type": "code",
   "execution_count": 38,
   "id": "27f0d62a",
   "metadata": {},
   "outputs": [],
   "source": [
    "orders = orders.query(\"order_status=='delivered'\").reset_index()"
   ]
  },
  {
   "cell_type": "markdown",
   "id": "c11ab74e",
   "metadata": {},
   "source": [
    "⌛️ Fix Datetime problems..."
   ]
  },
  {
   "cell_type": "code",
   "execution_count": 39,
   "id": "7a417d47",
   "metadata": {},
   "outputs": [],
   "source": [
    "orders['order_delivered_customer_date'] = pd.to_datetime(orders['order_delivered_customer_date'])\n",
    "orders['order_estimated_delivery_date'] = pd.to_datetime(orders['order_estimated_delivery_date'])\n",
    "orders['order_purchase_timestamp'] = pd.to_datetime(orders['order_purchase_timestamp'])"
   ]
  },
  {
   "cell_type": "markdown",
   "id": "5edc49ac",
   "metadata": {},
   "source": [
    "👉 Compute the delay between the actual delivery date and the ETA for each order."
   ]
  },
  {
   "cell_type": "code",
   "execution_count": 40,
   "id": "f30c6741",
   "metadata": {},
   "outputs": [],
   "source": [
    "orders['delay_vs_expected'] = (orders['order_delivered_customer_date'] -\\\n",
    "                               orders['order_estimated_delivery_date']) / np.timedelta64(24, 'h')"
   ]
  },
  {
   "cell_type": "markdown",
   "id": "04de1960",
   "metadata": {},
   "source": [
    "👉 Compute the waiting time between the actual delivery date and the moment a customer ordered their items"
   ]
  },
  {
   "cell_type": "code",
   "execution_count": 41,
   "id": "550db9b5",
   "metadata": {},
   "outputs": [],
   "source": [
    "orders['wait_time'] = (orders['order_delivered_customer_date'] -\\\n",
    "                       orders['order_purchase_timestamp']) / np.timedelta64(24, 'h')"
   ]
  },
  {
   "cell_type": "markdown",
   "id": "76d8e69d",
   "metadata": {},
   "source": [
    "⌛️ How many orders were delivered later than expected ?"
   ]
  },
  {
   "cell_type": "code",
   "execution_count": 42,
   "id": "6f2dd6d5",
   "metadata": {},
   "outputs": [],
   "source": [
    "# create a boolean feature that says whether an order was delivered with a delay or not\n",
    "# delay_vs_expected > 0 \n",
    "# <=> actual_delivered date > ETA \n",
    "# <=> actual_delivered date - ETA > 0\n",
    "\n",
    "orders[\"was_late\"] = orders['delay_vs_expected'].map(lambda x: x > 0)\n",
    "\n",
    "# early_or_in_time is just a nice column but it's redundant with the was_late\n",
    "orders[\"early_or_on_time\"] = orders[\"was_late\"].map({True:\"late\",False:\"in_time\"})"
   ]
  },
  {
   "cell_type": "code",
   "execution_count": 43,
   "id": "e34a5e29",
   "metadata": {},
   "outputs": [
    {
     "data": {
      "text/plain": [
       "in_time    88652\n",
       "late        7826\n",
       "Name: early_or_on_time, dtype: int64"
      ]
     },
     "execution_count": 43,
     "metadata": {},
     "output_type": "execute_result"
    }
   ],
   "source": [
    "orders[\"early_or_on_time\"].value_counts()"
   ]
  },
  {
   "cell_type": "code",
   "execution_count": 44,
   "id": "0970957e",
   "metadata": {},
   "outputs": [
    {
     "data": {
      "text/plain": [
       "in_time    0.92\n",
       "late       0.08\n",
       "Name: early_or_on_time, dtype: float64"
      ]
     },
     "execution_count": 44,
     "metadata": {},
     "output_type": "execute_result"
    }
   ],
   "source": [
    "#in percentages\n",
    "round(orders[\"early_or_on_time\"].value_counts(normalize = True),2)"
   ]
  },
  {
   "cell_type": "markdown",
   "id": "6e9fab68",
   "metadata": {},
   "source": [
    "* On average, 8% of the orders are delivered after the ETA ⌛️\n",
    "\n",
    "* Let's find which weeks were the worst 👇\n",
    "    1. Aggregate the dataset per week\n",
    "    2. Compute the percentage of orders delivered lately each week"
   ]
  },
  {
   "cell_type": "code",
   "execution_count": 45,
   "id": "cfd55c58",
   "metadata": {},
   "outputs": [
    {
     "name": "stdout",
     "output_type": "stream",
     "text": [
      "----------------------------------------\n",
      "Delay Analysis per week\n",
      "----------------------------------------\n"
     ]
    },
    {
     "data": {
      "text/html": [
       "<div>\n",
       "<style scoped>\n",
       "    .dataframe tbody tr th:only-of-type {\n",
       "        vertical-align: middle;\n",
       "    }\n",
       "\n",
       "    .dataframe tbody tr th {\n",
       "        vertical-align: top;\n",
       "    }\n",
       "\n",
       "    .dataframe thead th {\n",
       "        text-align: right;\n",
       "    }\n",
       "</style>\n",
       "<table border=\"1\" class=\"dataframe\">\n",
       "  <thead>\n",
       "    <tr style=\"text-align: right;\">\n",
       "      <th></th>\n",
       "      <th>avg_delay_vs_exp</th>\n",
       "      <th>avg_wait_time</th>\n",
       "      <th>nb_of_delays</th>\n",
       "      <th>nb_of_orders</th>\n",
       "      <th>pct_of_lateness</th>\n",
       "    </tr>\n",
       "    <tr>\n",
       "      <th>order_purchase_timestamp</th>\n",
       "      <th></th>\n",
       "      <th></th>\n",
       "      <th></th>\n",
       "      <th></th>\n",
       "      <th></th>\n",
       "    </tr>\n",
       "  </thead>\n",
       "  <tbody>\n",
       "    <tr>\n",
       "      <th>2018-07-01</th>\n",
       "      <td>-16.78</td>\n",
       "      <td>8.33</td>\n",
       "      <td>10</td>\n",
       "      <td>1382</td>\n",
       "      <td>0.01</td>\n",
       "    </tr>\n",
       "    <tr>\n",
       "      <th>2018-07-08</th>\n",
       "      <td>-13.84</td>\n",
       "      <td>8.52</td>\n",
       "      <td>19</td>\n",
       "      <td>1178</td>\n",
       "      <td>0.02</td>\n",
       "    </tr>\n",
       "    <tr>\n",
       "      <th>2018-07-15</th>\n",
       "      <td>-9.88</td>\n",
       "      <td>11.27</td>\n",
       "      <td>59</td>\n",
       "      <td>972</td>\n",
       "      <td>0.06</td>\n",
       "    </tr>\n",
       "    <tr>\n",
       "      <th>2018-07-22</th>\n",
       "      <td>-10.40</td>\n",
       "      <td>9.03</td>\n",
       "      <td>65</td>\n",
       "      <td>1649</td>\n",
       "      <td>0.04</td>\n",
       "    </tr>\n",
       "    <tr>\n",
       "      <th>2018-07-29</th>\n",
       "      <td>-9.92</td>\n",
       "      <td>8.32</td>\n",
       "      <td>63</td>\n",
       "      <td>1610</td>\n",
       "      <td>0.04</td>\n",
       "    </tr>\n",
       "    <tr>\n",
       "      <th>2018-08-05</th>\n",
       "      <td>-6.57</td>\n",
       "      <td>8.66</td>\n",
       "      <td>276</td>\n",
       "      <td>2002</td>\n",
       "      <td>0.14</td>\n",
       "    </tr>\n",
       "    <tr>\n",
       "      <th>2018-08-12</th>\n",
       "      <td>-7.01</td>\n",
       "      <td>8.49</td>\n",
       "      <td>243</td>\n",
       "      <td>1931</td>\n",
       "      <td>0.13</td>\n",
       "    </tr>\n",
       "    <tr>\n",
       "      <th>2018-08-19</th>\n",
       "      <td>-8.52</td>\n",
       "      <td>7.63</td>\n",
       "      <td>133</td>\n",
       "      <td>1839</td>\n",
       "      <td>0.07</td>\n",
       "    </tr>\n",
       "    <tr>\n",
       "      <th>2018-08-26</th>\n",
       "      <td>-8.32</td>\n",
       "      <td>5.48</td>\n",
       "      <td>71</td>\n",
       "      <td>1054</td>\n",
       "      <td>0.07</td>\n",
       "    </tr>\n",
       "    <tr>\n",
       "      <th>2018-09-02</th>\n",
       "      <td>-4.56</td>\n",
       "      <td>2.19</td>\n",
       "      <td>7</td>\n",
       "      <td>116</td>\n",
       "      <td>0.06</td>\n",
       "    </tr>\n",
       "  </tbody>\n",
       "</table>\n",
       "</div>"
      ],
      "text/plain": [
       "                          avg_delay_vs_exp  avg_wait_time  nb_of_delays  \\\n",
       "order_purchase_timestamp                                                  \n",
       "2018-07-01                          -16.78           8.33            10   \n",
       "2018-07-08                          -13.84           8.52            19   \n",
       "2018-07-15                           -9.88          11.27            59   \n",
       "2018-07-22                          -10.40           9.03            65   \n",
       "2018-07-29                           -9.92           8.32            63   \n",
       "2018-08-05                           -6.57           8.66           276   \n",
       "2018-08-12                           -7.01           8.49           243   \n",
       "2018-08-19                           -8.52           7.63           133   \n",
       "2018-08-26                           -8.32           5.48            71   \n",
       "2018-09-02                           -4.56           2.19             7   \n",
       "\n",
       "                          nb_of_orders  pct_of_lateness  \n",
       "order_purchase_timestamp                                 \n",
       "2018-07-01                        1382             0.01  \n",
       "2018-07-08                        1178             0.02  \n",
       "2018-07-15                         972             0.06  \n",
       "2018-07-22                        1649             0.04  \n",
       "2018-07-29                        1610             0.04  \n",
       "2018-08-05                        2002             0.14  \n",
       "2018-08-12                        1931             0.13  \n",
       "2018-08-19                        1839             0.07  \n",
       "2018-08-26                        1054             0.07  \n",
       "2018-09-02                         116             0.06  "
      ]
     },
     "metadata": {},
     "output_type": "display_data"
    }
   ],
   "source": [
    "delay_analysis_per_week = orders.set_index('order_purchase_timestamp').resample('W').agg({\n",
    "    'delay_vs_expected':np.mean,\n",
    "    'wait_time':np.mean,\n",
    "    'was_late':np.sum,\n",
    "    'order_id':'count'})\n",
    "\n",
    "delay_analysis_per_week.columns = ['avg_delay_vs_exp', 'avg_wait_time','nb_of_delays', 'nb_of_orders']\n",
    "\n",
    "delay_analysis_per_week['pct_of_lateness'] = delay_analysis_per_week['nb_of_delays'] / delay_analysis_per_week['nb_of_orders']\n",
    "\n",
    "print(\"-\"*40)\n",
    "print(\"Delay Analysis per week\")\n",
    "print(\"-\"*40)\n",
    "display(round(delay_analysis_per_week.tail(10),2))"
   ]
  },
  {
   "cell_type": "markdown",
   "id": "851d89e3",
   "metadata": {},
   "source": [
    "📈 Plot the `number of delays` and `percentage of delayed orders` per week"
   ]
  },
  {
   "cell_type": "code",
   "execution_count": 46,
   "id": "8c65a294",
   "metadata": {},
   "outputs": [
    {
     "data": {
      "image/png": "[encoded data removed]",
      "text/plain": [
       "<Figure size 1008x576 with 2 Axes>"
      ]
     },
     "metadata": {
      "needs_background": "light"
     },
     "output_type": "display_data"
    }
   ],
   "source": [
    "with plt.style.context('seaborn-deep'):\n",
    "    # figsize\n",
    "    plt.figure(figsize=(14,8))\n",
    "    # getting axes\n",
    "    ax1 = plt.gca()\n",
    "    # duplicating the ax1\n",
    "    ax2 = ax1.twinx()\n",
    "    # Weekly payments and Mean Payments\n",
    "    \n",
    "    ax1.plot(delay_analysis_per_week['nb_of_orders'],\n",
    "             color=\"blue\",\n",
    "             label=\"Number of orders\")\n",
    "    ax1.set_xlabel(\"Weeks\", \n",
    "                   fontsize = 16, \n",
    "                   labelpad = 10)\n",
    "    ax1.set_ylabel(\"Late orders per week\", \n",
    "                   fontsize = 16, \n",
    "                   labelpad = 20)\n",
    "\n",
    "    # Numbers\n",
    "    ax2.plot(delay_analysis_per_week['pct_of_lateness'],\n",
    "             label=\"Percentage of lateness\",\n",
    "             c=\"purple\")\n",
    "    ax2.set_ylabel(\"Percentage of lateness\", \n",
    "                   fontsize = 16, \n",
    "                   rotation = 90*3, \n",
    "                   labelpad = 20)\n",
    "\n",
    "    # Get a conjoined legend\n",
    "    lines, labels = ax1.get_legend_handles_labels()\n",
    "    lines2, labels2 = ax2.get_legend_handles_labels()\n",
    "    ax2.legend(lines + lines2, labels + labels2, loc='upper left', fontsize = 14)\n",
    "\n",
    "    # Title\n",
    "    ax1.set_title('Late deliveries per week', \n",
    "                  fontsize = 20, \n",
    "                  pad = 10)\n",
    "    \n",
    "    # Vertical lines\n",
    "    #ax1.xvlines(x=\"2018-03-04\")\n",
    "\n",
    "    # Grid\n",
    "    ax1.grid(axis=\"x\",linewidth=0.5)\n",
    "    plt.show()"
   ]
  },
  {
   "cell_type": "markdown",
   "id": "f240f889",
   "metadata": {},
   "source": [
    "#### Delay Analysis\n",
    "\n",
    "📈 📉 From the previous graph, Olist experienced major lateness issues on 3-4 weeks ⚠️...\n",
    "\n",
    "👉 Let's deep dive into these peaks of lateness.\n",
    "\n",
    "❓ Create a dataframe (with weeks as indexes ) with the following columns:\n",
    "* number of delays\n",
    "* number of orders\n",
    "* percentage of delayed orders"
   ]
  },
  {
   "cell_type": "code",
   "execution_count": 47,
   "id": "ffdb93cb",
   "metadata": {},
   "outputs": [
    {
     "data": {
      "text/html": [
       "<div>\n",
       "<style scoped>\n",
       "    .dataframe tbody tr th:only-of-type {\n",
       "        vertical-align: middle;\n",
       "    }\n",
       "\n",
       "    .dataframe tbody tr th {\n",
       "        vertical-align: top;\n",
       "    }\n",
       "\n",
       "    .dataframe thead th {\n",
       "        text-align: right;\n",
       "    }\n",
       "</style>\n",
       "<table border=\"1\" class=\"dataframe\">\n",
       "  <thead>\n",
       "    <tr style=\"text-align: right;\">\n",
       "      <th></th>\n",
       "      <th>nb_of_delays</th>\n",
       "      <th>nb_of_orders</th>\n",
       "      <th>pct_of_lateness</th>\n",
       "    </tr>\n",
       "    <tr>\n",
       "      <th>order_purchase_timestamp</th>\n",
       "      <th></th>\n",
       "      <th></th>\n",
       "      <th></th>\n",
       "    </tr>\n",
       "  </thead>\n",
       "  <tbody>\n",
       "    <tr>\n",
       "      <th>2016-09-18</th>\n",
       "      <td>1</td>\n",
       "      <td>1</td>\n",
       "      <td>1.00</td>\n",
       "    </tr>\n",
       "    <tr>\n",
       "      <th>2018-03-04</th>\n",
       "      <td>536</td>\n",
       "      <td>1849</td>\n",
       "      <td>0.29</td>\n",
       "    </tr>\n",
       "    <tr>\n",
       "      <th>2018-03-11</th>\n",
       "      <td>442</td>\n",
       "      <td>1598</td>\n",
       "      <td>0.28</td>\n",
       "    </tr>\n",
       "    <tr>\n",
       "      <th>2018-03-18</th>\n",
       "      <td>356</td>\n",
       "      <td>1541</td>\n",
       "      <td>0.23</td>\n",
       "    </tr>\n",
       "    <tr>\n",
       "      <th>2018-02-25</th>\n",
       "      <td>365</td>\n",
       "      <td>1713</td>\n",
       "      <td>0.21</td>\n",
       "    </tr>\n",
       "    <tr>\n",
       "      <th>2017-11-26</th>\n",
       "      <td>565</td>\n",
       "      <td>2915</td>\n",
       "      <td>0.19</td>\n",
       "    </tr>\n",
       "    <tr>\n",
       "      <th>2017-12-03</th>\n",
       "      <td>341</td>\n",
       "      <td>2047</td>\n",
       "      <td>0.17</td>\n",
       "    </tr>\n",
       "    <tr>\n",
       "      <th>2018-05-20</th>\n",
       "      <td>289</td>\n",
       "      <td>1805</td>\n",
       "      <td>0.16</td>\n",
       "    </tr>\n",
       "    <tr>\n",
       "      <th>2018-02-18</th>\n",
       "      <td>235</td>\n",
       "      <td>1595</td>\n",
       "      <td>0.15</td>\n",
       "    </tr>\n",
       "    <tr>\n",
       "      <th>2018-03-25</th>\n",
       "      <td>236</td>\n",
       "      <td>1671</td>\n",
       "      <td>0.14</td>\n",
       "    </tr>\n",
       "  </tbody>\n",
       "</table>\n",
       "</div>"
      ],
      "text/plain": [
       "                          nb_of_delays  nb_of_orders  pct_of_lateness\n",
       "order_purchase_timestamp                                             \n",
       "2016-09-18                           1             1             1.00\n",
       "2018-03-04                         536          1849             0.29\n",
       "2018-03-11                         442          1598             0.28\n",
       "2018-03-18                         356          1541             0.23\n",
       "2018-02-25                         365          1713             0.21\n",
       "2017-11-26                         565          2915             0.19\n",
       "2017-12-03                         341          2047             0.17\n",
       "2018-05-20                         289          1805             0.16\n",
       "2018-02-18                         235          1595             0.15\n",
       "2018-03-25                         236          1671             0.14"
      ]
     },
     "execution_count": 47,
     "metadata": {},
     "output_type": "execute_result"
    }
   ],
   "source": [
    "round(delay_analysis_per_week[['nb_of_delays', 'nb_of_orders','pct_of_lateness']].sort_values(by = 'pct_of_lateness', ascending = False).head(10),2)"
   ]
  },
  {
   "cell_type": "markdown",
   "id": "576a2089",
   "metadata": {},
   "source": [
    "❓ Create sub-dataframes to seperate these weeks into subgroups.\n",
    "\n",
    "Subgroups:\n",
    "- 20% and more\n",
    "- 15-20%\n",
    "- 10-15%\n",
    "- 5-10%\n",
    "- 5% and less"
   ]
  },
  {
   "cell_type": "code",
   "execution_count": 48,
   "id": "92ed81ec",
   "metadata": {},
   "outputs": [
    {
     "data": {
      "text/html": [
       "<div>\n",
       "<style scoped>\n",
       "    .dataframe tbody tr th:only-of-type {\n",
       "        vertical-align: middle;\n",
       "    }\n",
       "\n",
       "    .dataframe tbody tr th {\n",
       "        vertical-align: top;\n",
       "    }\n",
       "\n",
       "    .dataframe thead th {\n",
       "        text-align: right;\n",
       "    }\n",
       "</style>\n",
       "<table border=\"1\" class=\"dataframe\">\n",
       "  <thead>\n",
       "    <tr style=\"text-align: right;\">\n",
       "      <th></th>\n",
       "      <th>nb_of_delays</th>\n",
       "      <th>nb_of_orders</th>\n",
       "      <th>pct_of_lateness</th>\n",
       "    </tr>\n",
       "    <tr>\n",
       "      <th>order_purchase_timestamp</th>\n",
       "      <th></th>\n",
       "      <th></th>\n",
       "      <th></th>\n",
       "    </tr>\n",
       "  </thead>\n",
       "  <tbody>\n",
       "    <tr>\n",
       "      <th>2018-02-25</th>\n",
       "      <td>365</td>\n",
       "      <td>1713</td>\n",
       "      <td>0.21</td>\n",
       "    </tr>\n",
       "    <tr>\n",
       "      <th>2018-03-04</th>\n",
       "      <td>536</td>\n",
       "      <td>1849</td>\n",
       "      <td>0.29</td>\n",
       "    </tr>\n",
       "    <tr>\n",
       "      <th>2018-03-11</th>\n",
       "      <td>442</td>\n",
       "      <td>1598</td>\n",
       "      <td>0.28</td>\n",
       "    </tr>\n",
       "    <tr>\n",
       "      <th>2018-03-18</th>\n",
       "      <td>356</td>\n",
       "      <td>1541</td>\n",
       "      <td>0.23</td>\n",
       "    </tr>\n",
       "  </tbody>\n",
       "</table>\n",
       "</div>"
      ],
      "text/plain": [
       "                          nb_of_delays  nb_of_orders  pct_of_lateness\n",
       "order_purchase_timestamp                                             \n",
       "2018-02-25                         365          1713             0.21\n",
       "2018-03-04                         536          1849             0.29\n",
       "2018-03-11                         442          1598             0.28\n",
       "2018-03-18                         356          1541             0.23"
      ]
     },
     "metadata": {},
     "output_type": "display_data"
    }
   ],
   "source": [
    "lateness_20_and_more = delay_analysis_per_week.query(\"pct_of_lateness >= 0.20\")\n",
    "display(round(lateness_20_and_more[1:][['nb_of_delays', 'nb_of_orders','pct_of_lateness']],2))"
   ]
  },
  {
   "cell_type": "code",
   "execution_count": 49,
   "id": "211f0fb4",
   "metadata": {},
   "outputs": [
    {
     "data": {
      "text/html": [
       "<div>\n",
       "<style scoped>\n",
       "    .dataframe tbody tr th:only-of-type {\n",
       "        vertical-align: middle;\n",
       "    }\n",
       "\n",
       "    .dataframe tbody tr th {\n",
       "        vertical-align: top;\n",
       "    }\n",
       "\n",
       "    .dataframe thead th {\n",
       "        text-align: right;\n",
       "    }\n",
       "</style>\n",
       "<table border=\"1\" class=\"dataframe\">\n",
       "  <thead>\n",
       "    <tr style=\"text-align: right;\">\n",
       "      <th></th>\n",
       "      <th>nb_of_delays</th>\n",
       "      <th>nb_of_orders</th>\n",
       "      <th>pct_of_lateness</th>\n",
       "    </tr>\n",
       "    <tr>\n",
       "      <th>order_purchase_timestamp</th>\n",
       "      <th></th>\n",
       "      <th></th>\n",
       "      <th></th>\n",
       "    </tr>\n",
       "  </thead>\n",
       "  <tbody>\n",
       "    <tr>\n",
       "      <th>2017-11-26</th>\n",
       "      <td>565</td>\n",
       "      <td>2915</td>\n",
       "      <td>0.19</td>\n",
       "    </tr>\n",
       "    <tr>\n",
       "      <th>2017-12-03</th>\n",
       "      <td>341</td>\n",
       "      <td>2047</td>\n",
       "      <td>0.17</td>\n",
       "    </tr>\n",
       "    <tr>\n",
       "      <th>2018-05-20</th>\n",
       "      <td>289</td>\n",
       "      <td>1805</td>\n",
       "      <td>0.16</td>\n",
       "    </tr>\n",
       "  </tbody>\n",
       "</table>\n",
       "</div>"
      ],
      "text/plain": [
       "                          nb_of_delays  nb_of_orders  pct_of_lateness\n",
       "order_purchase_timestamp                                             \n",
       "2017-11-26                         565          2915             0.19\n",
       "2017-12-03                         341          2047             0.17\n",
       "2018-05-20                         289          1805             0.16"
      ]
     },
     "metadata": {},
     "output_type": "display_data"
    }
   ],
   "source": [
    "lateness_15_20 = delay_analysis_per_week[delay_analysis_per_week[\"pct_of_lateness\"].between(0.15,0.20)]\n",
    "display(round(lateness_15_20[['nb_of_delays', 'nb_of_orders','pct_of_lateness']],2))"
   ]
  },
  {
   "cell_type": "code",
   "execution_count": 50,
   "id": "93cbd566",
   "metadata": {},
   "outputs": [
    {
     "data": {
      "text/html": [
       "<div>\n",
       "<style scoped>\n",
       "    .dataframe tbody tr th:only-of-type {\n",
       "        vertical-align: middle;\n",
       "    }\n",
       "\n",
       "    .dataframe tbody tr th {\n",
       "        vertical-align: top;\n",
       "    }\n",
       "\n",
       "    .dataframe thead th {\n",
       "        text-align: right;\n",
       "    }\n",
       "</style>\n",
       "<table border=\"1\" class=\"dataframe\">\n",
       "  <thead>\n",
       "    <tr style=\"text-align: right;\">\n",
       "      <th></th>\n",
       "      <th>nb_of_delays</th>\n",
       "      <th>nb_of_orders</th>\n",
       "      <th>pct_of_lateness</th>\n",
       "    </tr>\n",
       "    <tr>\n",
       "      <th>order_purchase_timestamp</th>\n",
       "      <th></th>\n",
       "      <th></th>\n",
       "      <th></th>\n",
       "    </tr>\n",
       "  </thead>\n",
       "  <tbody>\n",
       "    <tr>\n",
       "      <th>2017-04-23</th>\n",
       "      <td>56</td>\n",
       "      <td>545</td>\n",
       "      <td>0.10</td>\n",
       "    </tr>\n",
       "    <tr>\n",
       "      <th>2017-12-10</th>\n",
       "      <td>195</td>\n",
       "      <td>1631</td>\n",
       "      <td>0.12</td>\n",
       "    </tr>\n",
       "    <tr>\n",
       "      <th>2018-02-18</th>\n",
       "      <td>235</td>\n",
       "      <td>1595</td>\n",
       "      <td>0.15</td>\n",
       "    </tr>\n",
       "    <tr>\n",
       "      <th>2018-03-25</th>\n",
       "      <td>236</td>\n",
       "      <td>1671</td>\n",
       "      <td>0.14</td>\n",
       "    </tr>\n",
       "    <tr>\n",
       "      <th>2018-04-01</th>\n",
       "      <td>193</td>\n",
       "      <td>1431</td>\n",
       "      <td>0.13</td>\n",
       "    </tr>\n",
       "    <tr>\n",
       "      <th>2018-08-05</th>\n",
       "      <td>276</td>\n",
       "      <td>2002</td>\n",
       "      <td>0.14</td>\n",
       "    </tr>\n",
       "    <tr>\n",
       "      <th>2018-08-12</th>\n",
       "      <td>243</td>\n",
       "      <td>1931</td>\n",
       "      <td>0.13</td>\n",
       "    </tr>\n",
       "  </tbody>\n",
       "</table>\n",
       "</div>"
      ],
      "text/plain": [
       "                          nb_of_delays  nb_of_orders  pct_of_lateness\n",
       "order_purchase_timestamp                                             \n",
       "2017-04-23                          56           545             0.10\n",
       "2017-12-10                         195          1631             0.12\n",
       "2018-02-18                         235          1595             0.15\n",
       "2018-03-25                         236          1671             0.14\n",
       "2018-04-01                         193          1431             0.13\n",
       "2018-08-05                         276          2002             0.14\n",
       "2018-08-12                         243          1931             0.13"
      ]
     },
     "metadata": {},
     "output_type": "display_data"
    }
   ],
   "source": [
    "lateness_10_15 = delay_analysis_per_week[delay_analysis_per_week[\"pct_of_lateness\"].between(0.10,0.15)]\n",
    "display(round(lateness_10_15[['nb_of_delays', 'nb_of_orders','pct_of_lateness']],2))"
   ]
  },
  {
   "cell_type": "code",
   "execution_count": 51,
   "id": "e907b6b7",
   "metadata": {},
   "outputs": [],
   "source": [
    "lateness_05_10 = delay_analysis_per_week[delay_analysis_per_week[\"pct_of_lateness\"].between(0.05,0.10)]"
   ]
  },
  {
   "cell_type": "code",
   "execution_count": 52,
   "id": "00d0eeb1",
   "metadata": {},
   "outputs": [],
   "source": [
    "lateness_05_and_less = delay_analysis_per_week[delay_analysis_per_week[\"pct_of_lateness\"].between(0.00,0.05)]"
   ]
  },
  {
   "cell_type": "code",
   "execution_count": 53,
   "id": "5512e5d4",
   "metadata": {},
   "outputs": [
    {
     "data": {
      "text/html": [
       "<div>\n",
       "<style scoped>\n",
       "    .dataframe tbody tr th:only-of-type {\n",
       "        vertical-align: middle;\n",
       "    }\n",
       "\n",
       "    .dataframe tbody tr th {\n",
       "        vertical-align: top;\n",
       "    }\n",
       "\n",
       "    .dataframe thead th {\n",
       "        text-align: right;\n",
       "    }\n",
       "</style>\n",
       "<table border=\"1\" class=\"dataframe\">\n",
       "  <thead>\n",
       "    <tr style=\"text-align: right;\">\n",
       "      <th></th>\n",
       "      <th>brackets</th>\n",
       "      <th>nb_weeks</th>\n",
       "    </tr>\n",
       "  </thead>\n",
       "  <tbody>\n",
       "    <tr>\n",
       "      <th>0</th>\n",
       "      <td>≥ 20%</td>\n",
       "      <td>4</td>\n",
       "    </tr>\n",
       "    <tr>\n",
       "      <th>1</th>\n",
       "      <td>15% - 20%</td>\n",
       "      <td>3</td>\n",
       "    </tr>\n",
       "    <tr>\n",
       "      <th>2</th>\n",
       "      <td>10% - 15%</td>\n",
       "      <td>7</td>\n",
       "    </tr>\n",
       "    <tr>\n",
       "      <th>3</th>\n",
       "      <td>5% - 10%</td>\n",
       "      <td>30</td>\n",
       "    </tr>\n",
       "    <tr>\n",
       "      <th>4</th>\n",
       "      <td>≤ 5%</td>\n",
       "      <td>46</td>\n",
       "    </tr>\n",
       "  </tbody>\n",
       "</table>\n",
       "</div>"
      ],
      "text/plain": [
       "    brackets  nb_weeks\n",
       "0      ≥ 20%         4\n",
       "1  15% - 20%         3\n",
       "2  10% - 15%         7\n",
       "3   5% - 10%        30\n",
       "4       ≤ 5%        46"
      ]
     },
     "metadata": {},
     "output_type": "display_data"
    }
   ],
   "source": [
    "lateness_brackets = pd.Series([\n",
    "    \" ≥ 20%\",\n",
    "    \"15% - 20%\",\n",
    "    \"10% - 15%\",\n",
    "    \"5% - 10%\",\n",
    "    \" ≤ 5%\"\n",
    "])\n",
    "\n",
    "lateness_numbers = pd.Series([\n",
    "    lateness_20_and_more.shape[0]-1,\n",
    "    lateness_15_20.shape[0],\n",
    "    lateness_10_15.shape[0],\n",
    "    lateness_05_10.shape[0],\n",
    "    lateness_05_and_less.shape[0]\n",
    "    \n",
    "])\n",
    "\n",
    "lateness_df = pd.concat([lateness_brackets,lateness_numbers],axis = 1)\n",
    "lateness_df.columns = ['brackets', 'nb_weeks']\n",
    "\n",
    "display(lateness_df)"
   ]
  },
  {
   "cell_type": "code",
   "execution_count": 54,
   "id": "88b8e78d",
   "metadata": {},
   "outputs": [
    {
     "data": {
      "text/plain": [
       "90"
      ]
     },
     "execution_count": 54,
     "metadata": {},
     "output_type": "execute_result"
    }
   ],
   "source": [
    "np.sum(lateness_df['nb_weeks'])"
   ]
  },
  {
   "cell_type": "markdown",
   "id": "ee392a65",
   "metadata": {},
   "source": [
    "⚠️⚠️⚠️ Among these 90 weeks, Olist encountered serious trouble⚠️⚠️⚠️\n",
    "* there were 4 weeks where more than 20% of the orders were delivered way later than expected\n",
    "* there were 3 weeks where 15-20% of the orders were delivered way later than expected\n",
    "* there were 7 weeks where 10-15% of the orders were delivered way later than expected\n",
    "\n",
    "👀 Points to consider to further investigate the analysis :\n",
    "- Check the Brazilian calendar 🇧🇷 🗓\n",
    "- Were some specific sellers and/or products involved during these weeks ?\n",
    "\n"
   ]
  },
  {
   "cell_type": "markdown",
   "id": "abdf4628",
   "metadata": {},
   "source": [
    "# Orders"
   ]
  },
  {
   "cell_type": "markdown",
   "id": "9b1203ac",
   "metadata": {},
   "source": [
    "We going to investigate **orders**, and their corresponding **review score**.\n",
    "\n",
    "👉 We want to create a DataFrame with the following features:\n",
    "\n",
    "\n",
    "| feature_name \t| type \t| description \t|\n",
    "|:---\t|:---:\t|:---\t|\n",
    "| `order_id` \t| str \t| the id of the order \t|\n",
    "| `wait_time` \t| float \t| the number of days between order_date and delivered_date \t|\n",
    "| `expected_wait_time` \t| float \t| the number of days between order_date and estimated_delivery_date \t|\n",
    "| `delay_vs_expected` \t| float \t| if the actual delivery date is later than the estimated delivery date, returns the number of days between the two dates, otherwise return 0 \t|\n",
    "| `order_status` \t| str \t| the status of the order \t|\n",
    "| `dim_is_five_star` \t| int \t| 1 if the order received a five-star review, 0 otherwise \t|\n",
    "| `dim_is_one_star` \t| int \t| 1 if the order received a one_star, 0 otherwise \t|\n",
    "| `review_score` \t| int \t| from 1 to 5 \t|\n",
    "| `number_of_products` \t| int \t| number of products that the order contains \t|\n",
    "| `number_of_sellers` \t| int \t| number of sellers involved in the order \t|\n",
    "| `price` \t| float \t| total price of the order paid by customer \t|\n",
    "| `freight_value` \t| float \t| value of the freight paid by customer \t|\n",
    "| `distance_customer_seller` \t| float \t| the distance in km between customer and seller (optional) \t|  \n",
    "  \n",
    "⚠️ We also want to filter out \"non-delivered\" orders, unless explicitly specified, otherwise we cannot compute the potential delays."
   ]
  },
  {
   "cell_type": "markdown",
   "id": "d3413788",
   "metadata": {},
   "source": [
    "❓ **Methodology**: \n",
    "\n",
    "- Implement each feature as a separate method within the `Order` class available on `order.py`\n",
    "- create a method `get_training_data()` that returns the complete DataFrame **without `NaN`s**.\n",
    "- Then copy the code into `order.py`\n"
   ]
  },
  {
   "cell_type": "markdown",
   "id": "d8f801be",
   "metadata": {},
   "source": [
    "## 1. Code `order.py`"
   ]
  },
  {
   "cell_type": "markdown",
   "id": "d0c79272",
   "metadata": {},
   "source": [
    "### a) `get_wait_time`\n",
    "    ❓ Return a Dataframe with:\n",
    "           order_id, wait_time, expected_wait_time, delay_vs_expected, order_status\n"
   ]
  },
  {
   "cell_type": "markdown",
   "id": "333161da",
   "metadata": {},
   "source": [
    "\n",
    "1. Inspect the `orders` dataframe\n",
    "2. Filter the dataframe on `delivered orders`\n",
    "3. Handle `datetime`\n",
    "4. Compute `wait_time`\n",
    "5. Compute `expected_wait_time`\n",
    "6. Compute `delay_vs_expected`\n",
    "7. Check the new dataframe "
   ]
  },
  {
   "cell_type": "code",
   "execution_count": 55,
   "id": "66eae417",
   "metadata": {},
   "outputs": [
    {
     "data": {
      "text/html": [
       "<div>\n",
       "<style scoped>\n",
       "    .dataframe tbody tr th:only-of-type {\n",
       "        vertical-align: middle;\n",
       "    }\n",
       "\n",
       "    .dataframe tbody tr th {\n",
       "        vertical-align: top;\n",
       "    }\n",
       "\n",
       "    .dataframe thead th {\n",
       "        text-align: right;\n",
       "    }\n",
       "</style>\n",
       "<table border=\"1\" class=\"dataframe\">\n",
       "  <thead>\n",
       "    <tr style=\"text-align: right;\">\n",
       "      <th></th>\n",
       "      <th>order_purchase_timestamp</th>\n",
       "      <th>order_id</th>\n",
       "      <th>customer_id</th>\n",
       "      <th>order_status</th>\n",
       "      <th>order_approved_at</th>\n",
       "      <th>order_delivered_carrier_date</th>\n",
       "      <th>order_delivered_customer_date</th>\n",
       "      <th>order_estimated_delivery_date</th>\n",
       "      <th>delay_vs_expected</th>\n",
       "      <th>wait_time</th>\n",
       "      <th>was_late</th>\n",
       "      <th>early_or_on_time</th>\n",
       "    </tr>\n",
       "  </thead>\n",
       "  <tbody>\n",
       "    <tr>\n",
       "      <th>0</th>\n",
       "      <td>2016-09-15 12:16:38</td>\n",
       "      <td>bfbd0f9bdef84302105ad712db648a6c</td>\n",
       "      <td>86dc2ffce2dfff336de2f386a786e574</td>\n",
       "      <td>delivered</td>\n",
       "      <td>2016-09-15 12:16:38</td>\n",
       "      <td>2016-11-07 17:11:53</td>\n",
       "      <td>2016-11-09 07:47:38</td>\n",
       "      <td>2016-10-04</td>\n",
       "      <td>36.324745</td>\n",
       "      <td>54.813194</td>\n",
       "      <td>True</td>\n",
       "      <td>late</td>\n",
       "    </tr>\n",
       "    <tr>\n",
       "      <th>1</th>\n",
       "      <td>2016-10-03 09:44:50</td>\n",
       "      <td>3b697a20d9e427646d92567910af6d57</td>\n",
       "      <td>355077684019f7f60a031656bd7262b8</td>\n",
       "      <td>delivered</td>\n",
       "      <td>2016-10-06 15:50:54</td>\n",
       "      <td>2016-10-23 14:02:13</td>\n",
       "      <td>2016-10-26 14:02:13</td>\n",
       "      <td>2016-10-27</td>\n",
       "      <td>-0.415127</td>\n",
       "      <td>23.178738</td>\n",
       "      <td>False</td>\n",
       "      <td>in_time</td>\n",
       "    </tr>\n",
       "  </tbody>\n",
       "</table>\n",
       "</div>"
      ],
      "text/plain": [
       "  order_purchase_timestamp                          order_id  \\\n",
       "0      2016-09-15 12:16:38  bfbd0f9bdef84302105ad712db648a6c   \n",
       "1      2016-10-03 09:44:50  3b697a20d9e427646d92567910af6d57   \n",
       "\n",
       "                        customer_id order_status    order_approved_at  \\\n",
       "0  86dc2ffce2dfff336de2f386a786e574    delivered  2016-09-15 12:16:38   \n",
       "1  355077684019f7f60a031656bd7262b8    delivered  2016-10-06 15:50:54   \n",
       "\n",
       "  order_delivered_carrier_date order_delivered_customer_date  \\\n",
       "0          2016-11-07 17:11:53           2016-11-09 07:47:38   \n",
       "1          2016-10-23 14:02:13           2016-10-26 14:02:13   \n",
       "\n",
       "  order_estimated_delivery_date  delay_vs_expected  wait_time  was_late  \\\n",
       "0                    2016-10-04          36.324745  54.813194      True   \n",
       "1                    2016-10-27          -0.415127  23.178738     False   \n",
       "\n",
       "  early_or_on_time  \n",
       "0             late  \n",
       "1          in_time  "
      ]
     },
     "execution_count": 55,
     "metadata": {},
     "output_type": "execute_result"
    }
   ],
   "source": [
    "orders.head(2)"
   ]
  },
  {
   "cell_type": "code",
   "execution_count": 56,
   "id": "3078191b",
   "metadata": {},
   "outputs": [
    {
     "data": {
      "text/plain": [
       "order_purchase_timestamp          0\n",
       "order_id                          0\n",
       "customer_id                       0\n",
       "order_status                      0\n",
       "order_approved_at                14\n",
       "order_delivered_carrier_date      2\n",
       "order_delivered_customer_date     8\n",
       "order_estimated_delivery_date     0\n",
       "delay_vs_expected                 8\n",
       "wait_time                         8\n",
       "was_late                          0\n",
       "early_or_on_time                  0\n",
       "dtype: int64"
      ]
     },
     "execution_count": 56,
     "metadata": {},
     "output_type": "execute_result"
    }
   ],
   "source": [
    "orders.isna().sum()"
   ]
  },
  {
   "cell_type": "code",
   "execution_count": 57,
   "id": "73cf1525",
   "metadata": {},
   "outputs": [],
   "source": [
    "# handle datetime\n",
    "orders['order_delivered_customer_date'] = pd.to_datetime(orders['order_delivered_customer_date'])\n",
    "orders['order_estimated_delivery_date'] = pd.to_datetime(orders['order_estimated_delivery_date'])\n",
    "orders['order_purchase_timestamp'] = pd.to_datetime(orders['order_purchase_timestamp'])"
   ]
  },
  {
   "cell_type": "code",
   "execution_count": 58,
   "id": "d5b76f31",
   "metadata": {},
   "outputs": [
    {
     "data": {
      "text/plain": [
       "0       54 days 19:31:00\n",
       "1       23 days 04:17:23\n",
       "2       24 days 01:22:48\n",
       "3       30 days 13:44:31\n",
       "4       27 days 13:01:39\n",
       "              ...       \n",
       "96473    1 days 10:22:28\n",
       "96474    1 days 02:06:32\n",
       "96475    1 days 02:34:03\n",
       "96476    1 days 01:44:59\n",
       "96477    1 days 01:22:59\n",
       "Length: 96478, dtype: timedelta64[ns]"
      ]
     },
     "execution_count": 58,
     "metadata": {},
     "output_type": "execute_result"
    }
   ],
   "source": [
    "orders['order_delivered_customer_date'] - orders['order_purchase_timestamp']"
   ]
  },
  {
   "cell_type": "code",
   "execution_count": 59,
   "id": "fb153d61",
   "metadata": {},
   "outputs": [],
   "source": [
    "# Compute just the number of days in each time_delta \n",
    "import datetime\n",
    "one_day_delta = datetime.timedelta(days=1) # a \"timedelta\" object of 1 day\n",
    "one_day_delta = np.timedelta64(24, 'h') # a \"timedelta64\" object of 1 day (use the one you prefer)\n",
    "\n",
    "# Assign compute delay vs expected\n",
    "orders.loc[:,'wait_time'] = \\\n",
    "    (orders['order_delivered_customer_date'] - orders['order_purchase_timestamp']) / one_day_delta\n",
    "\n",
    "orders.loc[:,'delay_vs_expected'] = \\\n",
    "    (orders['order_delivered_customer_date'] - orders['order_estimated_delivery_date']) / one_day_delta\n",
    "\n",
    "orders.loc[:,'expected_wait_time'] = \\\n",
    "    (orders['order_estimated_delivery_date'] - orders['order_purchase_timestamp']) / one_day_delta"
   ]
  },
  {
   "cell_type": "code",
   "execution_count": 60,
   "id": "bfbc5e9d",
   "metadata": {},
   "outputs": [
    {
     "data": {
      "text/plain": [
       "0        54.0\n",
       "1        23.0\n",
       "2        24.0\n",
       "3        30.0\n",
       "4        27.0\n",
       "         ... \n",
       "96473     1.0\n",
       "96474     1.0\n",
       "96475     1.0\n",
       "96476     1.0\n",
       "96477     1.0\n",
       "Length: 96478, dtype: float64"
      ]
     },
     "execution_count": 60,
     "metadata": {},
     "output_type": "execute_result"
    }
   ],
   "source": [
    "# pandas method called dt.days to compute time differences, it rounds time differences to days... but 8.9 days is worse than 8.1 days for this instance\n",
    "(orders['order_delivered_customer_date'] - orders['order_purchase_timestamp']).dt.days"
   ]
  },
  {
   "cell_type": "code",
   "execution_count": 61,
   "id": "cdee7fc5",
   "metadata": {},
   "outputs": [],
   "source": [
    "# We could use pandas' built in .clip method to remove anything below 0\n",
    "# orders.loc[:,'delay_vs_expected'] = orders['delay_vs_expected'].clip(0)\n",
    "\n",
    "# Or write a custom function and apply it to the column\n",
    "def handle_delay(x):\n",
    "    if x > 0:\n",
    "        return x\n",
    "    else:\n",
    "        return 0\n",
    "\n",
    "orders.loc[:,'delay_vs_expected'] = orders['delay_vs_expected'].apply(handle_delay)"
   ]
  },
  {
   "cell_type": "code",
   "execution_count": 62,
   "id": "9a3e4a1e",
   "metadata": {},
   "outputs": [
    {
     "data": {
      "text/html": [
       "<div>\n",
       "<style scoped>\n",
       "    .dataframe tbody tr th:only-of-type {\n",
       "        vertical-align: middle;\n",
       "    }\n",
       "\n",
       "    .dataframe tbody tr th {\n",
       "        vertical-align: top;\n",
       "    }\n",
       "\n",
       "    .dataframe thead th {\n",
       "        text-align: right;\n",
       "    }\n",
       "</style>\n",
       "<table border=\"1\" class=\"dataframe\">\n",
       "  <thead>\n",
       "    <tr style=\"text-align: right;\">\n",
       "      <th></th>\n",
       "      <th>order_id</th>\n",
       "      <th>wait_time</th>\n",
       "      <th>expected_wait_time</th>\n",
       "      <th>delay_vs_expected</th>\n",
       "    </tr>\n",
       "  </thead>\n",
       "  <tbody>\n",
       "    <tr>\n",
       "      <th>0</th>\n",
       "      <td>bfbd0f9bdef84302105ad712db648a6c</td>\n",
       "      <td>54.813194</td>\n",
       "      <td>18.488449</td>\n",
       "      <td>36.324745</td>\n",
       "    </tr>\n",
       "    <tr>\n",
       "      <th>1</th>\n",
       "      <td>3b697a20d9e427646d92567910af6d57</td>\n",
       "      <td>23.178738</td>\n",
       "      <td>23.593866</td>\n",
       "      <td>0.000000</td>\n",
       "    </tr>\n",
       "    <tr>\n",
       "      <th>2</th>\n",
       "      <td>be5bc2f0da14d8071e2d45451ad119d9</td>\n",
       "      <td>24.057500</td>\n",
       "      <td>34.293866</td>\n",
       "      <td>0.000000</td>\n",
       "    </tr>\n",
       "    <tr>\n",
       "      <th>3</th>\n",
       "      <td>a41c8759fbe7aab36ea07e038b2d4465</td>\n",
       "      <td>30.572581</td>\n",
       "      <td>56.115556</td>\n",
       "      <td>0.000000</td>\n",
       "    </tr>\n",
       "    <tr>\n",
       "      <th>4</th>\n",
       "      <td>d207cc272675637bfed0062edffd0818</td>\n",
       "      <td>27.542813</td>\n",
       "      <td>50.079132</td>\n",
       "      <td>0.000000</td>\n",
       "    </tr>\n",
       "    <tr>\n",
       "      <th>...</th>\n",
       "      <td>...</td>\n",
       "      <td>...</td>\n",
       "      <td>...</td>\n",
       "      <td>...</td>\n",
       "    </tr>\n",
       "    <tr>\n",
       "      <th>96473</th>\n",
       "      <td>52018484704db3661b98ce838612b507</td>\n",
       "      <td>1.432269</td>\n",
       "      <td>4.481956</td>\n",
       "      <td>0.000000</td>\n",
       "    </tr>\n",
       "    <tr>\n",
       "      <th>96474</th>\n",
       "      <td>0b223d92c27432930dfe407c6aea3041</td>\n",
       "      <td>1.087870</td>\n",
       "      <td>5.403900</td>\n",
       "      <td>0.000000</td>\n",
       "    </tr>\n",
       "    <tr>\n",
       "      <th>96475</th>\n",
       "      <td>168626408cb32af0ffaf76711caae1dc</td>\n",
       "      <td>1.106979</td>\n",
       "      <td>12.403843</td>\n",
       "      <td>0.000000</td>\n",
       "    </tr>\n",
       "    <tr>\n",
       "      <th>96476</th>\n",
       "      <td>03ef5dedbe7492bdae72eec50764c43f</td>\n",
       "      <td>1.072905</td>\n",
       "      <td>4.380556</td>\n",
       "      <td>0.000000</td>\n",
       "    </tr>\n",
       "    <tr>\n",
       "      <th>96477</th>\n",
       "      <td>35a972d7f8436f405b56e36add1a7140</td>\n",
       "      <td>1.057627</td>\n",
       "      <td>6.374572</td>\n",
       "      <td>0.000000</td>\n",
       "    </tr>\n",
       "  </tbody>\n",
       "</table>\n",
       "<p>96478 rows × 4 columns</p>\n",
       "</div>"
      ],
      "text/plain": [
       "                               order_id  wait_time  expected_wait_time  \\\n",
       "0      bfbd0f9bdef84302105ad712db648a6c  54.813194           18.488449   \n",
       "1      3b697a20d9e427646d92567910af6d57  23.178738           23.593866   \n",
       "2      be5bc2f0da14d8071e2d45451ad119d9  24.057500           34.293866   \n",
       "3      a41c8759fbe7aab36ea07e038b2d4465  30.572581           56.115556   \n",
       "4      d207cc272675637bfed0062edffd0818  27.542813           50.079132   \n",
       "...                                 ...        ...                 ...   \n",
       "96473  52018484704db3661b98ce838612b507   1.432269            4.481956   \n",
       "96474  0b223d92c27432930dfe407c6aea3041   1.087870            5.403900   \n",
       "96475  168626408cb32af0ffaf76711caae1dc   1.106979           12.403843   \n",
       "96476  03ef5dedbe7492bdae72eec50764c43f   1.072905            4.380556   \n",
       "96477  35a972d7f8436f405b56e36add1a7140   1.057627            6.374572   \n",
       "\n",
       "       delay_vs_expected  \n",
       "0              36.324745  \n",
       "1               0.000000  \n",
       "2               0.000000  \n",
       "3               0.000000  \n",
       "4               0.000000  \n",
       "...                  ...  \n",
       "96473           0.000000  \n",
       "96474           0.000000  \n",
       "96475           0.000000  \n",
       "96476           0.000000  \n",
       "96477           0.000000  \n",
       "\n",
       "[96478 rows x 4 columns]"
      ]
     },
     "execution_count": 62,
     "metadata": {},
     "output_type": "execute_result"
    }
   ],
   "source": [
    "orders[['order_id', 'wait_time', 'expected_wait_time', 'delay_vs_expected']]"
   ]
  },
  {
   "cell_type": "code",
   "execution_count": 63,
   "id": "a3f8c22b",
   "metadata": {},
   "outputs": [
    {
     "data": {
      "text/plain": [
       "<seaborn.axisgrid.FacetGrid at 0x7fda77022f70>"
      ]
     },
     "execution_count": 63,
     "metadata": {},
     "output_type": "execute_result"
    },
    {
     "data": {
      "image/png": "[encoded data removed]",
      "text/plain": [
       "<Figure size 360x360 with 1 Axes>"
      ]
     },
     "metadata": {
      "needs_background": "light"
     },
     "output_type": "display_data"
    }
   ],
   "source": [
    "sns.displot(orders['delay_vs_expected'])"
   ]
  },
  {
   "cell_type": "markdown",
   "id": "55cddb97",
   "metadata": {},
   "source": [
    "### b) `get_review_score`\n",
    "     ❓ Returns a DataFrame with:\n",
    "        order_id, dim_is_five_star, dim_is_one_star, review_score\n",
    "\n",
    "dim_is_$N$_star should contain `1` if review_score=$N$ and `0` otherwise "
   ]
  },
  {
   "cell_type": "code",
   "execution_count": 64,
   "id": "3f88cfad",
   "metadata": {},
   "outputs": [
    {
     "data": {
      "text/html": [
       "<div>\n",
       "<style scoped>\n",
       "    .dataframe tbody tr th:only-of-type {\n",
       "        vertical-align: middle;\n",
       "    }\n",
       "\n",
       "    .dataframe tbody tr th {\n",
       "        vertical-align: top;\n",
       "    }\n",
       "\n",
       "    .dataframe thead th {\n",
       "        text-align: right;\n",
       "    }\n",
       "</style>\n",
       "<table border=\"1\" class=\"dataframe\">\n",
       "  <thead>\n",
       "    <tr style=\"text-align: right;\">\n",
       "      <th></th>\n",
       "      <th>review_id</th>\n",
       "      <th>order_id</th>\n",
       "      <th>review_score</th>\n",
       "      <th>review_comment_title</th>\n",
       "      <th>review_comment_message</th>\n",
       "      <th>review_creation_date</th>\n",
       "      <th>review_answer_timestamp</th>\n",
       "    </tr>\n",
       "  </thead>\n",
       "  <tbody>\n",
       "    <tr>\n",
       "      <th>0</th>\n",
       "      <td>7bc2406110b926393aa56f80a40eba40</td>\n",
       "      <td>73fc7af87114b39712e6da79b0a377eb</td>\n",
       "      <td>4</td>\n",
       "      <td>NaN</td>\n",
       "      <td>NaN</td>\n",
       "      <td>2018-01-18 00:00:00</td>\n",
       "      <td>2018-01-18 21:46:59</td>\n",
       "    </tr>\n",
       "    <tr>\n",
       "      <th>1</th>\n",
       "      <td>80e641a11e56f04c1ad469d5645fdfde</td>\n",
       "      <td>a548910a1c6147796b98fdf73dbeba33</td>\n",
       "      <td>5</td>\n",
       "      <td>NaN</td>\n",
       "      <td>NaN</td>\n",
       "      <td>2018-03-10 00:00:00</td>\n",
       "      <td>2018-03-11 03:05:13</td>\n",
       "    </tr>\n",
       "    <tr>\n",
       "      <th>2</th>\n",
       "      <td>228ce5500dc1d8e020d8d1322874b6f0</td>\n",
       "      <td>f9e4b658b201a9f2ecdecbb34bed034b</td>\n",
       "      <td>5</td>\n",
       "      <td>NaN</td>\n",
       "      <td>NaN</td>\n",
       "      <td>2018-02-17 00:00:00</td>\n",
       "      <td>2018-02-18 14:36:24</td>\n",
       "    </tr>\n",
       "    <tr>\n",
       "      <th>3</th>\n",
       "      <td>e64fb393e7b32834bb789ff8bb30750e</td>\n",
       "      <td>658677c97b385a9be170737859d3511b</td>\n",
       "      <td>5</td>\n",
       "      <td>NaN</td>\n",
       "      <td>Recebi bem antes do prazo estipulado.</td>\n",
       "      <td>2017-04-21 00:00:00</td>\n",
       "      <td>2017-04-21 22:02:06</td>\n",
       "    </tr>\n",
       "    <tr>\n",
       "      <th>4</th>\n",
       "      <td>f7c4243c7fe1938f181bec41a392bdeb</td>\n",
       "      <td>8e6bfb81e283fa7e4f11123a3fb894f1</td>\n",
       "      <td>5</td>\n",
       "      <td>NaN</td>\n",
       "      <td>Parabéns lojas lannister adorei comprar pela I...</td>\n",
       "      <td>2018-03-01 00:00:00</td>\n",
       "      <td>2018-03-02 10:26:53</td>\n",
       "    </tr>\n",
       "    <tr>\n",
       "      <th>...</th>\n",
       "      <td>...</td>\n",
       "      <td>...</td>\n",
       "      <td>...</td>\n",
       "      <td>...</td>\n",
       "      <td>...</td>\n",
       "      <td>...</td>\n",
       "      <td>...</td>\n",
       "    </tr>\n",
       "    <tr>\n",
       "      <th>99219</th>\n",
       "      <td>574ed12dd733e5fa530cfd4bbf39d7c9</td>\n",
       "      <td>2a8c23fee101d4d5662fa670396eb8da</td>\n",
       "      <td>5</td>\n",
       "      <td>NaN</td>\n",
       "      <td>NaN</td>\n",
       "      <td>2018-07-07 00:00:00</td>\n",
       "      <td>2018-07-14 17:18:30</td>\n",
       "    </tr>\n",
       "    <tr>\n",
       "      <th>99220</th>\n",
       "      <td>f3897127253a9592a73be9bdfdf4ed7a</td>\n",
       "      <td>22ec9f0669f784db00fa86d035cf8602</td>\n",
       "      <td>5</td>\n",
       "      <td>NaN</td>\n",
       "      <td>NaN</td>\n",
       "      <td>2017-12-09 00:00:00</td>\n",
       "      <td>2017-12-11 20:06:42</td>\n",
       "    </tr>\n",
       "    <tr>\n",
       "      <th>99221</th>\n",
       "      <td>b3de70c89b1510c4cd3d0649fd302472</td>\n",
       "      <td>55d4004744368f5571d1f590031933e4</td>\n",
       "      <td>5</td>\n",
       "      <td>NaN</td>\n",
       "      <td>Excelente mochila, entrega super rápida. Super...</td>\n",
       "      <td>2018-03-22 00:00:00</td>\n",
       "      <td>2018-03-23 09:10:43</td>\n",
       "    </tr>\n",
       "    <tr>\n",
       "      <th>99222</th>\n",
       "      <td>1adeb9d84d72fe4e337617733eb85149</td>\n",
       "      <td>7725825d039fc1f0ceb7635e3f7d9206</td>\n",
       "      <td>4</td>\n",
       "      <td>NaN</td>\n",
       "      <td>NaN</td>\n",
       "      <td>2018-07-01 00:00:00</td>\n",
       "      <td>2018-07-02 12:59:13</td>\n",
       "    </tr>\n",
       "    <tr>\n",
       "      <th>99223</th>\n",
       "      <td>efe49f1d6f951dd88b51e6ccd4cc548f</td>\n",
       "      <td>90531360ecb1eec2a1fbb265a0db0508</td>\n",
       "      <td>1</td>\n",
       "      <td>NaN</td>\n",
       "      <td>meu produto chegou e ja tenho que devolver, po...</td>\n",
       "      <td>2017-07-03 00:00:00</td>\n",
       "      <td>2017-07-03 21:01:49</td>\n",
       "    </tr>\n",
       "  </tbody>\n",
       "</table>\n",
       "<p>99224 rows × 7 columns</p>\n",
       "</div>"
      ],
      "text/plain": [
       "                              review_id                          order_id  \\\n",
       "0      7bc2406110b926393aa56f80a40eba40  73fc7af87114b39712e6da79b0a377eb   \n",
       "1      80e641a11e56f04c1ad469d5645fdfde  a548910a1c6147796b98fdf73dbeba33   \n",
       "2      228ce5500dc1d8e020d8d1322874b6f0  f9e4b658b201a9f2ecdecbb34bed034b   \n",
       "3      e64fb393e7b32834bb789ff8bb30750e  658677c97b385a9be170737859d3511b   \n",
       "4      f7c4243c7fe1938f181bec41a392bdeb  8e6bfb81e283fa7e4f11123a3fb894f1   \n",
       "...                                 ...                               ...   \n",
       "99219  574ed12dd733e5fa530cfd4bbf39d7c9  2a8c23fee101d4d5662fa670396eb8da   \n",
       "99220  f3897127253a9592a73be9bdfdf4ed7a  22ec9f0669f784db00fa86d035cf8602   \n",
       "99221  b3de70c89b1510c4cd3d0649fd302472  55d4004744368f5571d1f590031933e4   \n",
       "99222  1adeb9d84d72fe4e337617733eb85149  7725825d039fc1f0ceb7635e3f7d9206   \n",
       "99223  efe49f1d6f951dd88b51e6ccd4cc548f  90531360ecb1eec2a1fbb265a0db0508   \n",
       "\n",
       "       review_score review_comment_title  \\\n",
       "0                 4                  NaN   \n",
       "1                 5                  NaN   \n",
       "2                 5                  NaN   \n",
       "3                 5                  NaN   \n",
       "4                 5                  NaN   \n",
       "...             ...                  ...   \n",
       "99219             5                  NaN   \n",
       "99220             5                  NaN   \n",
       "99221             5                  NaN   \n",
       "99222             4                  NaN   \n",
       "99223             1                  NaN   \n",
       "\n",
       "                                  review_comment_message review_creation_date  \\\n",
       "0                                                    NaN  2018-01-18 00:00:00   \n",
       "1                                                    NaN  2018-03-10 00:00:00   \n",
       "2                                                    NaN  2018-02-17 00:00:00   \n",
       "3                  Recebi bem antes do prazo estipulado.  2017-04-21 00:00:00   \n",
       "4      Parabéns lojas lannister adorei comprar pela I...  2018-03-01 00:00:00   \n",
       "...                                                  ...                  ...   \n",
       "99219                                                NaN  2018-07-07 00:00:00   \n",
       "99220                                                NaN  2017-12-09 00:00:00   \n",
       "99221  Excelente mochila, entrega super rápida. Super...  2018-03-22 00:00:00   \n",
       "99222                                                NaN  2018-07-01 00:00:00   \n",
       "99223  meu produto chegou e ja tenho que devolver, po...  2017-07-03 00:00:00   \n",
       "\n",
       "      review_answer_timestamp  \n",
       "0         2018-01-18 21:46:59  \n",
       "1         2018-03-11 03:05:13  \n",
       "2         2018-02-18 14:36:24  \n",
       "3         2017-04-21 22:02:06  \n",
       "4         2018-03-02 10:26:53  \n",
       "...                       ...  \n",
       "99219     2018-07-14 17:18:30  \n",
       "99220     2017-12-11 20:06:42  \n",
       "99221     2018-03-23 09:10:43  \n",
       "99222     2018-07-02 12:59:13  \n",
       "99223     2017-07-03 21:01:49  \n",
       "\n",
       "[99224 rows x 7 columns]"
      ]
     },
     "execution_count": 64,
     "metadata": {},
     "output_type": "execute_result"
    }
   ],
   "source": [
    "reviews = data['order_reviews'].copy()\n",
    "assert(reviews.shape == (99224,7))\n",
    "reviews"
   ]
  },
  {
   "cell_type": "code",
   "execution_count": 65,
   "id": "ae7f8367",
   "metadata": {},
   "outputs": [],
   "source": [
    "dim_is_one_star = lambda x: int(x==1)\n",
    "dim_is_five_star = lambda x: int(x==5)\n",
    "\n",
    "reviews[\"dim_is_five_star\"] = reviews[\"review_score\"].map(dim_is_five_star) # --> Series([0, 1, 1, 0, 0, 1 ...])\n",
    "reviews[\"dim_is_one_star\"] = reviews[\"review_score\"].map(dim_is_one_star) # --> Series([0, 1, 1, 0, 0, 1 ...])"
   ]
  },
  {
   "cell_type": "code",
   "execution_count": 66,
   "id": "bfb3557f",
   "metadata": {},
   "outputs": [
    {
     "data": {
      "text/html": [
       "<div>\n",
       "<style scoped>\n",
       "    .dataframe tbody tr th:only-of-type {\n",
       "        vertical-align: middle;\n",
       "    }\n",
       "\n",
       "    .dataframe tbody tr th {\n",
       "        vertical-align: top;\n",
       "    }\n",
       "\n",
       "    .dataframe thead th {\n",
       "        text-align: right;\n",
       "    }\n",
       "</style>\n",
       "<table border=\"1\" class=\"dataframe\">\n",
       "  <thead>\n",
       "    <tr style=\"text-align: right;\">\n",
       "      <th></th>\n",
       "      <th>order_id</th>\n",
       "      <th>dim_is_five_star</th>\n",
       "      <th>dim_is_one_star</th>\n",
       "      <th>review_score</th>\n",
       "    </tr>\n",
       "  </thead>\n",
       "  <tbody>\n",
       "    <tr>\n",
       "      <th>0</th>\n",
       "      <td>73fc7af87114b39712e6da79b0a377eb</td>\n",
       "      <td>0</td>\n",
       "      <td>0</td>\n",
       "      <td>4</td>\n",
       "    </tr>\n",
       "    <tr>\n",
       "      <th>1</th>\n",
       "      <td>a548910a1c6147796b98fdf73dbeba33</td>\n",
       "      <td>1</td>\n",
       "      <td>0</td>\n",
       "      <td>5</td>\n",
       "    </tr>\n",
       "    <tr>\n",
       "      <th>2</th>\n",
       "      <td>f9e4b658b201a9f2ecdecbb34bed034b</td>\n",
       "      <td>1</td>\n",
       "      <td>0</td>\n",
       "      <td>5</td>\n",
       "    </tr>\n",
       "    <tr>\n",
       "      <th>3</th>\n",
       "      <td>658677c97b385a9be170737859d3511b</td>\n",
       "      <td>1</td>\n",
       "      <td>0</td>\n",
       "      <td>5</td>\n",
       "    </tr>\n",
       "    <tr>\n",
       "      <th>4</th>\n",
       "      <td>8e6bfb81e283fa7e4f11123a3fb894f1</td>\n",
       "      <td>1</td>\n",
       "      <td>0</td>\n",
       "      <td>5</td>\n",
       "    </tr>\n",
       "    <tr>\n",
       "      <th>...</th>\n",
       "      <td>...</td>\n",
       "      <td>...</td>\n",
       "      <td>...</td>\n",
       "      <td>...</td>\n",
       "    </tr>\n",
       "    <tr>\n",
       "      <th>99219</th>\n",
       "      <td>2a8c23fee101d4d5662fa670396eb8da</td>\n",
       "      <td>1</td>\n",
       "      <td>0</td>\n",
       "      <td>5</td>\n",
       "    </tr>\n",
       "    <tr>\n",
       "      <th>99220</th>\n",
       "      <td>22ec9f0669f784db00fa86d035cf8602</td>\n",
       "      <td>1</td>\n",
       "      <td>0</td>\n",
       "      <td>5</td>\n",
       "    </tr>\n",
       "    <tr>\n",
       "      <th>99221</th>\n",
       "      <td>55d4004744368f5571d1f590031933e4</td>\n",
       "      <td>1</td>\n",
       "      <td>0</td>\n",
       "      <td>5</td>\n",
       "    </tr>\n",
       "    <tr>\n",
       "      <th>99222</th>\n",
       "      <td>7725825d039fc1f0ceb7635e3f7d9206</td>\n",
       "      <td>0</td>\n",
       "      <td>0</td>\n",
       "      <td>4</td>\n",
       "    </tr>\n",
       "    <tr>\n",
       "      <th>99223</th>\n",
       "      <td>90531360ecb1eec2a1fbb265a0db0508</td>\n",
       "      <td>0</td>\n",
       "      <td>1</td>\n",
       "      <td>1</td>\n",
       "    </tr>\n",
       "  </tbody>\n",
       "</table>\n",
       "<p>99224 rows × 4 columns</p>\n",
       "</div>"
      ],
      "text/plain": [
       "                               order_id  dim_is_five_star  dim_is_one_star  \\\n",
       "0      73fc7af87114b39712e6da79b0a377eb                 0                0   \n",
       "1      a548910a1c6147796b98fdf73dbeba33                 1                0   \n",
       "2      f9e4b658b201a9f2ecdecbb34bed034b                 1                0   \n",
       "3      658677c97b385a9be170737859d3511b                 1                0   \n",
       "4      8e6bfb81e283fa7e4f11123a3fb894f1                 1                0   \n",
       "...                                 ...               ...              ...   \n",
       "99219  2a8c23fee101d4d5662fa670396eb8da                 1                0   \n",
       "99220  22ec9f0669f784db00fa86d035cf8602                 1                0   \n",
       "99221  55d4004744368f5571d1f590031933e4                 1                0   \n",
       "99222  7725825d039fc1f0ceb7635e3f7d9206                 0                0   \n",
       "99223  90531360ecb1eec2a1fbb265a0db0508                 0                1   \n",
       "\n",
       "       review_score  \n",
       "0                 4  \n",
       "1                 5  \n",
       "2                 5  \n",
       "3                 5  \n",
       "4                 5  \n",
       "...             ...  \n",
       "99219             5  \n",
       "99220             5  \n",
       "99221             5  \n",
       "99222             4  \n",
       "99223             1  \n",
       "\n",
       "[99224 rows x 4 columns]"
      ]
     },
     "execution_count": 66,
     "metadata": {},
     "output_type": "execute_result"
    }
   ],
   "source": [
    "reviews[[\"order_id\", \"dim_is_five_star\", \"dim_is_one_star\", \"review_score\"]]"
   ]
  },
  {
   "cell_type": "markdown",
   "id": "3ac3b0bd",
   "metadata": {},
   "source": [
    "### c) `get_number_products`:\n",
    "     ❓ Returns a DataFrame with:\n",
    "        order_id, number_of_products (total number of products per order)"
   ]
  },
  {
   "cell_type": "code",
   "execution_count": 67,
   "id": "e41f9a05",
   "metadata": {},
   "outputs": [
    {
     "data": {
      "text/html": [
       "<div>\n",
       "<style scoped>\n",
       "    .dataframe tbody tr th:only-of-type {\n",
       "        vertical-align: middle;\n",
       "    }\n",
       "\n",
       "    .dataframe tbody tr th {\n",
       "        vertical-align: top;\n",
       "    }\n",
       "\n",
       "    .dataframe thead th {\n",
       "        text-align: right;\n",
       "    }\n",
       "</style>\n",
       "<table border=\"1\" class=\"dataframe\">\n",
       "  <thead>\n",
       "    <tr style=\"text-align: right;\">\n",
       "      <th></th>\n",
       "      <th>number_of_products</th>\n",
       "    </tr>\n",
       "    <tr>\n",
       "      <th>order_id</th>\n",
       "      <th></th>\n",
       "    </tr>\n",
       "  </thead>\n",
       "  <tbody>\n",
       "    <tr>\n",
       "      <th>00010242fe8c5a6d1ba2dd792cb16214</th>\n",
       "      <td>1</td>\n",
       "    </tr>\n",
       "    <tr>\n",
       "      <th>a6e9d106235bcf1dda54253686d89e99</th>\n",
       "      <td>1</td>\n",
       "    </tr>\n",
       "    <tr>\n",
       "      <th>a6e9b80a7636eb8dd592dbb3e20d0a91</th>\n",
       "      <td>1</td>\n",
       "    </tr>\n",
       "    <tr>\n",
       "      <th>a6e963c11e80432334e984ead4797a8b</th>\n",
       "      <td>1</td>\n",
       "    </tr>\n",
       "    <tr>\n",
       "      <th>a6e8ad5db31e71f5f12671af561acb4a</th>\n",
       "      <td>1</td>\n",
       "    </tr>\n",
       "    <tr>\n",
       "      <th>...</th>\n",
       "      <td>...</td>\n",
       "    </tr>\n",
       "    <tr>\n",
       "      <th>428a2f660dc84138d969ccd69a0ab6d5</th>\n",
       "      <td>15</td>\n",
       "    </tr>\n",
       "    <tr>\n",
       "      <th>9ef13efd6949e4573a18964dd1bbe7f5</th>\n",
       "      <td>15</td>\n",
       "    </tr>\n",
       "    <tr>\n",
       "      <th>1b15974a0141d54e36626dca3fdc731a</th>\n",
       "      <td>20</td>\n",
       "    </tr>\n",
       "    <tr>\n",
       "      <th>ab14fdcfbe524636d65ee38360e22ce8</th>\n",
       "      <td>20</td>\n",
       "    </tr>\n",
       "    <tr>\n",
       "      <th>8272b63d03f5f79c56e9e4120aec44ef</th>\n",
       "      <td>21</td>\n",
       "    </tr>\n",
       "  </tbody>\n",
       "</table>\n",
       "<p>98666 rows × 1 columns</p>\n",
       "</div>"
      ],
      "text/plain": [
       "                                  number_of_products\n",
       "order_id                                            \n",
       "00010242fe8c5a6d1ba2dd792cb16214                   1\n",
       "a6e9d106235bcf1dda54253686d89e99                   1\n",
       "a6e9b80a7636eb8dd592dbb3e20d0a91                   1\n",
       "a6e963c11e80432334e984ead4797a8b                   1\n",
       "a6e8ad5db31e71f5f12671af561acb4a                   1\n",
       "...                                              ...\n",
       "428a2f660dc84138d969ccd69a0ab6d5                  15\n",
       "9ef13efd6949e4573a18964dd1bbe7f5                  15\n",
       "1b15974a0141d54e36626dca3fdc731a                  20\n",
       "ab14fdcfbe524636d65ee38360e22ce8                  20\n",
       "8272b63d03f5f79c56e9e4120aec44ef                  21\n",
       "\n",
       "[98666 rows x 1 columns]"
      ]
     },
     "execution_count": 67,
     "metadata": {},
     "output_type": "execute_result"
    }
   ],
   "source": [
    "data[\"order_items\"].groupby(\"order_id\").count()\\\n",
    ".rename(columns={\"order_item_id\": \"number_of_products\"})\\\n",
    ".sort_values(\"number_of_products\")[['number_of_products']]"
   ]
  },
  {
   "cell_type": "markdown",
   "id": "35c73c80",
   "metadata": {},
   "source": [
    "### d) `get_number_sellers`:\n",
    "     ❓ Returns a DataFrame with:\n",
    "        order_id, number_of_sellers (total number of unique sellers per order)\n",
    "        "
   ]
  },
  {
   "cell_type": "code",
   "execution_count": 68,
   "id": "2ef4c343",
   "metadata": {},
   "outputs": [
    {
     "data": {
      "text/html": [
       "<div>\n",
       "<style scoped>\n",
       "    .dataframe tbody tr th:only-of-type {\n",
       "        vertical-align: middle;\n",
       "    }\n",
       "\n",
       "    .dataframe tbody tr th {\n",
       "        vertical-align: top;\n",
       "    }\n",
       "\n",
       "    .dataframe thead th {\n",
       "        text-align: right;\n",
       "    }\n",
       "</style>\n",
       "<table border=\"1\" class=\"dataframe\">\n",
       "  <thead>\n",
       "    <tr style=\"text-align: right;\">\n",
       "      <th></th>\n",
       "      <th>order_id</th>\n",
       "      <th>number_of_sellers</th>\n",
       "    </tr>\n",
       "  </thead>\n",
       "  <tbody>\n",
       "    <tr>\n",
       "      <th>0</th>\n",
       "      <td>00010242fe8c5a6d1ba2dd792cb16214</td>\n",
       "      <td>1</td>\n",
       "    </tr>\n",
       "    <tr>\n",
       "      <th>65559</th>\n",
       "      <td>aaaf314a8cf0d0da71e52c6cd4184cbd</td>\n",
       "      <td>1</td>\n",
       "    </tr>\n",
       "    <tr>\n",
       "      <th>65558</th>\n",
       "      <td>aaaea350ff8a957595f3c631d6b63d1b</td>\n",
       "      <td>1</td>\n",
       "    </tr>\n",
       "    <tr>\n",
       "      <th>65557</th>\n",
       "      <td>aaae80f5b6239bd9e1b22e9aa542c3e8</td>\n",
       "      <td>1</td>\n",
       "    </tr>\n",
       "    <tr>\n",
       "      <th>65556</th>\n",
       "      <td>aaabf43feb9498d9de4588eb73231c25</td>\n",
       "      <td>1</td>\n",
       "    </tr>\n",
       "    <tr>\n",
       "      <th>...</th>\n",
       "      <td>...</td>\n",
       "      <td>...</td>\n",
       "    </tr>\n",
       "    <tr>\n",
       "      <th>11231</th>\n",
       "      <td>1d23106803c48c391366ff224513fb7f</td>\n",
       "      <td>4</td>\n",
       "    </tr>\n",
       "    <tr>\n",
       "      <th>53796</th>\n",
       "      <td>8c2b13adf3f377c8f2b06b04321b0925</td>\n",
       "      <td>4</td>\n",
       "    </tr>\n",
       "    <tr>\n",
       "      <th>55847</th>\n",
       "      <td>91be51c856a90d7efe86cf9d082d6ae3</td>\n",
       "      <td>4</td>\n",
       "    </tr>\n",
       "    <tr>\n",
       "      <th>79967</th>\n",
       "      <td>cf5c8d9f52807cb2d2f0a0ff54c478da</td>\n",
       "      <td>5</td>\n",
       "    </tr>\n",
       "    <tr>\n",
       "      <th>10831</th>\n",
       "      <td>1c11d0f4353b31ac3417fbfa5f0f2a8a</td>\n",
       "      <td>5</td>\n",
       "    </tr>\n",
       "  </tbody>\n",
       "</table>\n",
       "<p>98666 rows × 2 columns</p>\n",
       "</div>"
      ],
      "text/plain": [
       "                               order_id  number_of_sellers\n",
       "0      00010242fe8c5a6d1ba2dd792cb16214                  1\n",
       "65559  aaaf314a8cf0d0da71e52c6cd4184cbd                  1\n",
       "65558  aaaea350ff8a957595f3c631d6b63d1b                  1\n",
       "65557  aaae80f5b6239bd9e1b22e9aa542c3e8                  1\n",
       "65556  aaabf43feb9498d9de4588eb73231c25                  1\n",
       "...                                 ...                ...\n",
       "11231  1d23106803c48c391366ff224513fb7f                  4\n",
       "53796  8c2b13adf3f377c8f2b06b04321b0925                  4\n",
       "55847  91be51c856a90d7efe86cf9d082d6ae3                  4\n",
       "79967  cf5c8d9f52807cb2d2f0a0ff54c478da                  5\n",
       "10831  1c11d0f4353b31ac3417fbfa5f0f2a8a                  5\n",
       "\n",
       "[98666 rows x 2 columns]"
      ]
     },
     "execution_count": 68,
     "metadata": {},
     "output_type": "execute_result"
    }
   ],
   "source": [
    "sellers = \\\n",
    "    data['order_items']\\\n",
    "    .groupby('order_id')['seller_id'].nunique().reset_index()\n",
    "\n",
    "sellers.columns = ['order_id', 'number_of_sellers']\n",
    "sellers.sort_values('number_of_sellers')"
   ]
  },
  {
   "cell_type": "markdown",
   "id": "7ee85c8b",
   "metadata": {},
   "source": [
    "### e) `get_price_and_freight`\n",
    "     Returns a DataFrame with:\n",
    "        order_id, price, freight_value"
   ]
  },
  {
   "cell_type": "code",
   "execution_count": 70,
   "id": "1778f90e",
   "metadata": {},
   "outputs": [
    {
     "data": {
      "text/html": [
       "<div>\n",
       "<style scoped>\n",
       "    .dataframe tbody tr th:only-of-type {\n",
       "        vertical-align: middle;\n",
       "    }\n",
       "\n",
       "    .dataframe tbody tr th {\n",
       "        vertical-align: top;\n",
       "    }\n",
       "\n",
       "    .dataframe thead th {\n",
       "        text-align: right;\n",
       "    }\n",
       "</style>\n",
       "<table border=\"1\" class=\"dataframe\">\n",
       "  <thead>\n",
       "    <tr style=\"text-align: right;\">\n",
       "      <th></th>\n",
       "      <th>order_id</th>\n",
       "      <th>price</th>\n",
       "      <th>freight_value</th>\n",
       "    </tr>\n",
       "  </thead>\n",
       "  <tbody>\n",
       "    <tr>\n",
       "      <th>0</th>\n",
       "      <td>00010242fe8c5a6d1ba2dd792cb16214</td>\n",
       "      <td>58.90</td>\n",
       "      <td>13.29</td>\n",
       "    </tr>\n",
       "    <tr>\n",
       "      <th>1</th>\n",
       "      <td>00018f77f2f0320c557190d7a144bdd3</td>\n",
       "      <td>239.90</td>\n",
       "      <td>19.93</td>\n",
       "    </tr>\n",
       "    <tr>\n",
       "      <th>2</th>\n",
       "      <td>000229ec398224ef6ca0657da4fc703e</td>\n",
       "      <td>199.00</td>\n",
       "      <td>17.87</td>\n",
       "    </tr>\n",
       "    <tr>\n",
       "      <th>3</th>\n",
       "      <td>00024acbcdf0a6daa1e931b038114c75</td>\n",
       "      <td>12.99</td>\n",
       "      <td>12.79</td>\n",
       "    </tr>\n",
       "    <tr>\n",
       "      <th>4</th>\n",
       "      <td>00042b26cf59d7ce69dfabb4e55b4fd9</td>\n",
       "      <td>199.90</td>\n",
       "      <td>18.14</td>\n",
       "    </tr>\n",
       "    <tr>\n",
       "      <th>...</th>\n",
       "      <td>...</td>\n",
       "      <td>...</td>\n",
       "      <td>...</td>\n",
       "    </tr>\n",
       "    <tr>\n",
       "      <th>98661</th>\n",
       "      <td>fffc94f6ce00a00581880bf54a75a037</td>\n",
       "      <td>299.99</td>\n",
       "      <td>43.41</td>\n",
       "    </tr>\n",
       "    <tr>\n",
       "      <th>98662</th>\n",
       "      <td>fffcd46ef2263f404302a634eb57f7eb</td>\n",
       "      <td>350.00</td>\n",
       "      <td>36.53</td>\n",
       "    </tr>\n",
       "    <tr>\n",
       "      <th>98663</th>\n",
       "      <td>fffce4705a9662cd70adb13d4a31832d</td>\n",
       "      <td>99.90</td>\n",
       "      <td>16.95</td>\n",
       "    </tr>\n",
       "    <tr>\n",
       "      <th>98664</th>\n",
       "      <td>fffe18544ffabc95dfada21779c9644f</td>\n",
       "      <td>55.99</td>\n",
       "      <td>8.72</td>\n",
       "    </tr>\n",
       "    <tr>\n",
       "      <th>98665</th>\n",
       "      <td>fffe41c64501cc87c801fd61db3f6244</td>\n",
       "      <td>43.00</td>\n",
       "      <td>12.79</td>\n",
       "    </tr>\n",
       "  </tbody>\n",
       "</table>\n",
       "<p>98666 rows × 3 columns</p>\n",
       "</div>"
      ],
      "text/plain": [
       "                               order_id   price  freight_value\n",
       "0      00010242fe8c5a6d1ba2dd792cb16214   58.90          13.29\n",
       "1      00018f77f2f0320c557190d7a144bdd3  239.90          19.93\n",
       "2      000229ec398224ef6ca0657da4fc703e  199.00          17.87\n",
       "3      00024acbcdf0a6daa1e931b038114c75   12.99          12.79\n",
       "4      00042b26cf59d7ce69dfabb4e55b4fd9  199.90          18.14\n",
       "...                                 ...     ...            ...\n",
       "98661  fffc94f6ce00a00581880bf54a75a037  299.99          43.41\n",
       "98662  fffcd46ef2263f404302a634eb57f7eb  350.00          36.53\n",
       "98663  fffce4705a9662cd70adb13d4a31832d   99.90          16.95\n",
       "98664  fffe18544ffabc95dfada21779c9644f   55.99           8.72\n",
       "98665  fffe41c64501cc87c801fd61db3f6244   43.00          12.79\n",
       "\n",
       "[98666 rows x 3 columns]"
      ]
     },
     "execution_count": 70,
     "metadata": {},
     "output_type": "execute_result"
    }
   ],
   "source": [
    "price_freight = \\\n",
    "    data['order_items']\\\n",
    "    .groupby('order_id',\n",
    "             as_index=False).agg({'price': 'sum',\n",
    "                                  'freight_value': 'sum'})\n",
    "price_freight"
   ]
  },
  {
   "cell_type": "code",
   "execution_count": null,
   "id": "689f0c0e",
   "metadata": {},
   "outputs": [],
   "source": []
  }
 ],
 "metadata": {
  "kernelspec": {
   "display_name": "Python 3 (ipykernel)",
   "language": "python",
   "name": "python3"
  },
  "language_info": {
   "codemirror_mode": {
    "name": "ipython",
    "version": 3
   },
   "file_extension": ".py",
   "mimetype": "text/x-python",
   "name": "python",
   "nbconvert_exporter": "python",
   "pygments_lexer": "ipython3",
   "version": "3.8.12"
  },
  "toc": {
   "base_numbering": 1,
   "nav_menu": {},
   "number_sections": true,
   "sideBar": true,
   "skip_h1_title": false,
   "title_cell": "Table of Contents",
   "title_sidebar": "Contents",
   "toc_cell": false,
   "toc_position": {},
   "toc_section_display": true,
   "toc_window_display": false
  }
 },
 "nbformat": 4,
 "nbformat_minor": 5
}
